{
 "cells": [
  {
   "cell_type": "code",
   "execution_count": 2,
   "id": "5917375f-8670-4054-a2b0-7afd0fe7c087",
   "metadata": {
    "tags": []
   },
   "outputs": [
    {
     "name": "stdout",
     "output_type": "stream",
     "text": [
      "Python 3.7.10\n",
      "Package                              Version\n",
      "------------------------------------ -----------------\n",
      "aiobotocore                          2.4.2\n",
      "aiohttp                              3.8.4\n",
      "aioitertools                         0.11.0\n",
      "aiosignal                            1.3.1\n",
      "alabaster                            0.7.12\n",
      "anaconda-client                      1.7.2\n",
      "anaconda-project                     0.8.3\n",
      "ansi2html                            1.8.0\n",
      "anyio                                3.6.2\n",
      "argh                                 0.26.2\n",
      "argon2-cffi                          21.3.0\n",
      "argon2-cffi-bindings                 21.2.0\n",
      "asn1crypto                           1.3.0\n",
      "astroid                              2.15.1\n",
      "astropy                              4.3.1\n",
      "async-timeout                        4.0.2\n",
      "asynctest                            0.13.0\n",
      "atomicwrites                         1.3.0\n",
      "attrs                                22.2.0\n",
      "autopep8                             1.4.4\n",
      "autovizwidget                        0.20.4\n",
      "awscli                               1.27.103\n",
      "Babel                                2.12.1\n",
      "backcall                             0.1.0\n",
      "backports.shutil-get-terminal-size   1.0.0\n",
      "beautifulsoup4                       4.8.2\n",
      "bitarray                             1.2.1\n",
      "bkcharts                             0.2\n",
      "bleach                               6.0.0\n",
      "bokeh                                1.4.0\n",
      "boto                                 2.49.0\n",
      "boto3                                1.26.103\n",
      "botocore                             1.29.103\n",
      "Bottleneck                           1.3.2\n",
      "brotlipy                             0.7.0\n",
      "cached-property                      1.5.2\n",
      "certifi                              2022.12.7\n",
      "cffi                                 1.15.0\n",
      "chardet                              3.0.4\n",
      "charset-normalizer                   2.0.4\n",
      "Click                                7.0\n",
      "cloudpickle                          2.2.1\n",
      "clyent                               1.2.2\n",
      "colorama                             0.4.3\n",
      "conda                                22.9.0\n",
      "conda-package-handling               1.8.1\n",
      "contextlib2                          0.6.0.post1\n",
      "cryptography                         40.0.1\n",
      "cycler                               0.10.0\n",
      "Cython                               0.29.15\n",
      "cytoolz                              0.10.1\n",
      "dash                                 2.9.2\n",
      "dash-core-components                 2.0.0\n",
      "dash-html-components                 2.0.0\n",
      "dash-table                           5.0.0\n",
      "dask                                 2022.2.0\n",
      "decorator                            4.4.1\n",
      "defusedxml                           0.6.0\n",
      "diff-match-patch                     20181111\n",
      "dill                                 0.3.6\n",
      "distributed                          2022.2.0\n",
      "distro                               1.8.0\n",
      "docker                               6.0.1\n",
      "docker-compose                       1.29.2\n",
      "dockerpty                            0.4.1\n",
      "docopt                               0.6.2\n",
      "docutils                             0.16\n",
      "dparse                               0.6.2\n",
      "entrypoints                          0.3\n",
      "et-xmlfile                           1.0.1\n",
      "fastcache                            1.1.0\n",
      "fastjsonschema                       2.16.3\n",
      "filelock                             3.0.12\n",
      "flake8                               3.7.9\n",
      "Flask                                1.1.1\n",
      "frozenlist                           1.3.3\n",
      "fsspec                               2023.1.0\n",
      "future                               0.18.2\n",
      "gevent                               1.4.0\n",
      "glob2                                0.7\n",
      "gmpy2                                2.0.8\n",
      "google-pasta                         0.2.0\n",
      "greenlet                             0.4.15\n",
      "h5py                                 2.10.0\n",
      "hdijupyterutils                      0.20.4\n",
      "HeapDict                             1.0.1\n",
      "html5lib                             1.0.1\n",
      "hypothesis                           5.5.4\n",
      "idna                                 2.8\n",
      "imageio                              2.6.1\n",
      "imagesize                            1.2.0\n",
      "importlib-metadata                   6.1.0\n",
      "intervaltree                         3.0.2\n",
      "ipykernel                            5.1.4\n",
      "ipython                              7.34.0\n",
      "ipython_genutils                     0.2.0\n",
      "ipywidgets                           7.5.1\n",
      "isort                                4.3.21\n",
      "itsdangerous                         1.1.0\n",
      "jdcal                                1.4.1\n",
      "jedi                                 0.18.2\n",
      "jeepney                              0.4.2\n",
      "Jinja2                               3.1.2\n",
      "jmespath                             1.0.1\n",
      "joblib                               1.2.0\n",
      "json5                                0.9.1\n",
      "jsonschema                           3.2.0\n",
      "jupyter                              1.0.0\n",
      "jupyter_client                       7.4.9\n",
      "jupyter-console                      6.1.0\n",
      "jupyter_core                         4.12.0\n",
      "jupyter-dash                         0.4.2\n",
      "jupyter-server                       1.23.6\n",
      "jupyterlab                           1.2.21\n",
      "jupyterlab-pygments                  0.2.2\n",
      "jupyterlab-server                    1.0.6\n",
      "keyring                              21.1.0\n",
      "kiwisolver                           1.1.0\n",
      "lazy-object-proxy                    1.4.3\n",
      "libarchive-c                         2.8\n",
      "lief                                 0.9.0\n",
      "llvmlite                             0.39.1\n",
      "locket                               0.2.0\n",
      "lxml                                 4.9.2\n",
      "MarkupSafe                           2.1.2\n",
      "matplotlib                           3.1.3\n",
      "matplotlib-inline                    0.1.6\n",
      "mccabe                               0.6.1\n",
      "mistune                              0.8.4\n",
      "mkl-fft                              1.0.15\n",
      "mkl-random                           1.1.0\n",
      "mkl-service                          2.3.0\n",
      "mock                                 4.0.1\n",
      "more-itertools                       8.2.0\n",
      "mpmath                               1.1.0\n",
      "msgpack                              0.6.1\n",
      "multidict                            6.0.4\n",
      "multipledispatch                     0.6.0\n",
      "multiprocess                         0.70.14\n",
      "nbclassic                            0.5.4\n",
      "nbclient                             0.7.2\n",
      "nbconvert                            6.5.4\n",
      "nbformat                             5.8.0\n",
      "nest-asyncio                         1.5.6\n",
      "networkx                             2.4\n",
      "nltk                                 3.8.1\n",
      "nose                                 1.3.7\n",
      "notebook                             6.5.3\n",
      "notebook_shim                        0.2.2\n",
      "numba                                0.56.4\n",
      "numexpr                              2.7.1\n",
      "numpy                                1.21.6\n",
      "numpydoc                             0.9.2\n",
      "olefile                              0.46\n",
      "openpyxl                             3.0.3\n",
      "packaging                            20.1\n",
      "pandas                               1.3.5\n",
      "pandocfilters                        1.4.2\n",
      "parso                                0.8.3\n",
      "partd                                1.1.0\n",
      "path                                 13.1.0\n",
      "pathlib2                             2.3.5\n",
      "pathos                               0.3.0\n",
      "pathtools                            0.1.2\n",
      "patsy                                0.5.1\n",
      "pep8                                 1.7.1\n",
      "pexpect                              4.8.0\n",
      "pickleshare                          0.7.5\n",
      "Pillow                               9.4.0\n",
      "pip                                  23.0.1\n",
      "pkginfo                              1.5.0.1\n",
      "platformdirs                         3.2.0\n",
      "plotly                               5.8.2\n",
      "pluggy                               0.13.1\n",
      "ply                                  3.11\n",
      "pox                                  0.3.2\n",
      "ppft                                 1.7.6.6\n",
      "prometheus-client                    0.7.1\n",
      "prompt-toolkit                       3.0.3\n",
      "protobuf                             3.20.3\n",
      "protobuf3-to-dict                    0.1.5\n",
      "psutil                               5.6.7\n",
      "ptyprocess                           0.6.0\n",
      "pure-sasl                            0.6.2\n",
      "py                                   1.11.0\n",
      "pyarrow                              11.0.0\n",
      "pyasn1                               0.4.8\n",
      "pycodestyle                          2.5.0\n",
      "pycosat                              0.6.3\n",
      "pycparser                            2.19\n",
      "pycryptodome                         3.17\n",
      "pycurl                               7.43.0.5\n",
      "pydocstyle                           4.0.1\n",
      "pyerfa                               2.0.0.3\n",
      "pyflakes                             2.1.1\n",
      "pyfunctional                         1.4.3\n",
      "Pygments                             2.14.0\n",
      "PyHive                               0.6.5\n",
      "pykerberos                           1.2.1\n",
      "pylint                               2.17.1\n",
      "pyodbc                               4.0.0-unsupported\n",
      "pyOpenSSL                            23.1.1\n",
      "pyparsing                            2.4.6\n",
      "pyrsistent                           0.15.7\n",
      "PySocks                              1.7.1\n",
      "pytest                               5.3.5\n",
      "pytest-arraydiff                     0.3\n",
      "pytest-astropy                       0.8.0\n",
      "pytest-astropy-header                0.1.2\n",
      "pytest-doctestplus                   0.5.0\n",
      "pytest-openfiles                     0.4.0\n",
      "pytest-remotedata                    0.3.2\n",
      "python-dateutil                      2.8.2\n",
      "python-dotenv                        0.21.1\n",
      "python-jsonrpc-server                0.3.4\n",
      "python-language-server               0.31.7\n",
      "pytz                                 2019.3\n",
      "PyWavelets                           1.1.1\n",
      "pyxdg                                0.26\n",
      "PyYAML                               6.0\n",
      "pyzmq                                25.0.2\n",
      "QDarkStyle                           2.8\n",
      "QtAwesome                            0.6.1\n",
      "qtconsole                            4.6.0\n",
      "QtPy                                 1.9.0\n",
      "regex                                2022.10.31\n",
      "requests                             2.28.2\n",
      "requests-kerberos                    0.12.0\n",
      "retrying                             1.3.4\n",
      "rope                                 0.16.0\n",
      "rsa                                  4.9\n",
      "Rtree                                0.9.3\n",
      "ruamel_yaml                          0.15.87\n",
      "s3fs                                 0.4.2\n",
      "s3transfer                           0.6.0\n",
      "sagemaker                            2.143.0\n",
      "sagemaker-data-insights              0.3.3\n",
      "sagemaker-datawrangler               0.3.9\n",
      "sagemaker-scikit-learn-extension     2.5.0\n",
      "sagemaker-studio-analytics-extension 0.0.17\n",
      "sagemaker-studio-sparkmagic-lib      0.1.4\n",
      "sasl                                 0.3.1\n",
      "schema                               0.7.5\n",
      "scikit-image                         0.16.2\n",
      "scikit-learn                         0.22.1\n",
      "scipy                                1.4.1\n",
      "seaborn                              0.10.0\n",
      "SecretStorage                        3.1.2\n",
      "Send2Trash                           1.8.0\n",
      "setuptools                           59.3.0\n",
      "simplegeneric                        0.8.1\n",
      "singledispatch                       3.4.0.3\n",
      "six                                  1.14.0\n",
      "smclarify                            0.4\n",
      "smdebug-rulesconfig                  1.0.1\n",
      "sniffio                              1.3.0\n",
      "snowballstemmer                      2.0.0\n",
      "sortedcollections                    1.1.2\n",
      "sortedcontainers                     2.1.0\n",
      "soupsieve                            1.9.5\n",
      "sparkmagic                           0.20.4\n",
      "Sphinx                               2.4.0\n",
      "sphinxcontrib-applehelp              1.0.1\n",
      "sphinxcontrib-devhelp                1.0.1\n",
      "sphinxcontrib-htmlhelp               1.0.2\n",
      "sphinxcontrib-jsmath                 1.0.1\n",
      "sphinxcontrib-qthelp                 1.0.2\n",
      "sphinxcontrib-serializinghtml        1.1.3\n",
      "sphinxcontrib-websupport             1.2.0\n",
      "spyder                               4.0.1\n",
      "spyder-kernels                       1.8.1\n",
      "SQLAlchemy                           1.3.13\n",
      "statsmodels                          0.11.0\n",
      "sympy                                1.5.1\n",
      "tables                               3.6.1\n",
      "tabulate                             0.9.0\n",
      "tblib                                1.6.0\n",
      "tenacity                             8.2.2\n",
      "terminado                            0.8.3\n",
      "testpath                             0.4.4\n",
      "texttable                            1.6.7\n",
      "thrift                               0.13.0\n",
      "thrift-sasl                          0.4.3\n",
      "tinycss2                             1.2.1\n",
      "toml                                 0.10.2\n",
      "tomli                                2.0.1\n",
      "tomlkit                              0.11.7\n",
      "toolz                                0.10.0\n",
      "tornado                              6.2\n",
      "tqdm                                 4.42.1\n",
      "traitlets                            5.9.0\n",
      "typed-ast                            1.5.4\n",
      "typing_extensions                    4.5.0\n",
      "ujson                                5.7.0\n",
      "unicodecsv                           0.14.1\n",
      "urllib3                              1.26.15\n",
      "watchdog                             0.10.2\n",
      "wcwidth                              0.1.8\n",
      "webencodings                         0.5.1\n",
      "websocket-client                     0.59.0\n",
      "Werkzeug                             2.2.3\n",
      "wheel                                0.40.0\n",
      "widgetsnbextension                   3.5.1\n",
      "wrapt                                1.11.2\n",
      "wurlitzer                            2.0.0\n",
      "xlrd                                 1.2.0\n",
      "XlsxWriter                           1.2.7\n",
      "xlwt                                 1.3.0\n",
      "yapf                                 0.28.0\n",
      "yarl                                 1.8.2\n",
      "zict                                 1.0.0\n",
      "zipp                                 3.15.0\n",
      "\u001b[33mWARNING: Running pip as the 'root' user can result in broken permissions and conflicting behaviour with the system package manager. It is recommended to use a virtual environment instead: https://pip.pypa.io/warnings/venv\u001b[0m\u001b[33m\n",
      "\u001b[0m\u001b[31mERROR: pip's dependency resolver does not currently take into account all the packages that are installed. This behaviour is the source of the following dependency conflicts.\n",
      "aiobotocore 2.4.2 requires botocore<1.27.60,>=1.27.59, but you have botocore 1.29.103 which is incompatible.\u001b[0m\u001b[31m\n",
      "\u001b[0m\u001b[33mWARNING: Running pip as the 'root' user can result in broken permissions and conflicting behaviour with the system package manager. It is recommended to use a virtual environment instead: https://pip.pypa.io/warnings/venv\u001b[0m\u001b[33m\n",
      "\u001b[0m\u001b[31mERROR: pip's dependency resolver does not currently take into account all the packages that are installed. This behaviour is the source of the following dependency conflicts.\n",
      "sagemaker 2.143.0 requires boto3<2.0,>=1.26.28, but you have boto3 1.16.56 which is incompatible.\n",
      "sagemaker 2.143.0 requires importlib-metadata<5.0,>=1.4.0, but you have importlib-metadata 6.1.0 which is incompatible.\n",
      "sagemaker 2.143.0 requires PyYAML==5.4.1, but you have pyyaml 5.3.1 which is incompatible.\n",
      "sagemaker-studio-analytics-extension 0.0.17 requires boto3<2.0,>=1.26.49, but you have boto3 1.16.56 which is incompatible.\n",
      "aiobotocore 2.4.2 requires botocore<1.27.60,>=1.27.59, but you have botocore 1.19.56 which is incompatible.\u001b[0m\u001b[31m\n",
      "\u001b[0m\u001b[33mWARNING: Running pip as the 'root' user can result in broken permissions and conflicting behaviour with the system package manager. It is recommended to use a virtual environment instead: https://pip.pypa.io/warnings/venv\u001b[0m\u001b[33m\n",
      "\u001b[0m\u001b[33mWARNING: Running pip as the 'root' user can result in broken permissions and conflicting behaviour with the system package manager. It is recommended to use a virtual environment instead: https://pip.pypa.io/warnings/venv\u001b[0m\u001b[33m\n",
      "\u001b[0m\u001b[33mWARNING: Running pip as the 'root' user can result in broken permissions and conflicting behaviour with the system package manager. It is recommended to use a virtual environment instead: https://pip.pypa.io/warnings/venv\u001b[0m\u001b[33m\n",
      "\u001b[0m\u001b[33mWARNING: Running pip as the 'root' user can result in broken permissions and conflicting behaviour with the system package manager. It is recommended to use a virtual environment instead: https://pip.pypa.io/warnings/venv\u001b[0m\u001b[33m\n",
      "\u001b[0mCollecting package metadata (current_repodata.json): done\n",
      "Solving environment: failed with initial frozen solve. Retrying with flexible solve.\n",
      "Collecting package metadata (repodata.json): done\n",
      "Solving environment: done\n",
      "\n",
      "## Package Plan ##\n",
      "\n",
      "  environment location: /opt/conda\n",
      "\n",
      "  added / updated specs:\n",
      "    - pytorch==1.6.0\n",
      "\n",
      "\n",
      "The following packages will be downloaded:\n",
      "\n",
      "    package                    |            build\n",
      "    ---------------------------|-----------------\n",
      "    ca-certificates-2023.01.10 |       h06a4308_0         120 KB\n",
      "    certifi-2022.12.7          |   py37h06a4308_0         150 KB\n",
      "    cudatoolkit-10.2.89        |       hfd86e86_1       365.1 MB\n",
      "    ninja-1.10.2               |       h06a4308_5           8 KB\n",
      "    ninja-base-1.10.2          |       hd09550d_5         109 KB\n",
      "    openssl-1.1.1t             |       h7f8727e_0         3.7 MB\n",
      "    pytorch-1.6.0              |py3.7_cuda10.2.89_cudnn7.6.5_0       537.7 MB  pytorch\n",
      "    ------------------------------------------------------------\n",
      "                                           Total:       906.9 MB\n",
      "\n",
      "The following NEW packages will be INSTALLED:\n",
      "\n",
      "  cudatoolkit        pkgs/main/linux-64::cudatoolkit-10.2.89-hfd86e86_1 None\n",
      "  ninja              pkgs/main/linux-64::ninja-1.10.2-h06a4308_5 None\n",
      "  ninja-base         pkgs/main/linux-64::ninja-base-1.10.2-hd09550d_5 None\n",
      "  pytorch            pytorch/linux-64::pytorch-1.6.0-py3.7_cuda10.2.89_cudnn7.6.5_0 None\n",
      "\n",
      "The following packages will be UPDATED:\n",
      "\n",
      "  ca-certificates    conda-forge::ca-certificates-2022.12.~ --> pkgs/main::ca-certificates-2023.01.10-h06a4308_0 None\n",
      "  openssl            conda-forge::openssl-1.1.1l-h7f98852_0 --> pkgs/main::openssl-1.1.1t-h7f8727e_0 None\n",
      "\n",
      "The following packages will be SUPERSEDED by a higher-priority channel:\n",
      "\n",
      "  certifi            conda-forge/noarch::certifi-2022.12.7~ --> pkgs/main/linux-64::certifi-2022.12.7-py37h06a4308_0 None\n",
      "\n",
      "\n",
      "\n",
      "Downloading and Extracting Packages\n",
      "openssl-1.1.1t       | 3.7 MB    | ##################################### | 100% \n",
      "cudatoolkit-10.2.89  | 365.1 MB  | ##################################### | 100% \n",
      "pytorch-1.6.0        | 537.7 MB  | ##################################### | 100% \n",
      "certifi-2022.12.7    | 150 KB    | ##################################### | 100% \n",
      "ca-certificates-2023 | 120 KB    | ##################################### | 100% \n",
      "ninja-1.10.2         | 8 KB      | ##################################### | 100% \n",
      "ninja-base-1.10.2    | 109 KB    | ##################################### | 100% \n",
      "Preparing transaction: done\n",
      "Verifying transaction: done\n",
      "Executing transaction: done\n",
      "Retrieving notices: ...working... done\n",
      "\u001b[31mERROR: pip's dependency resolver does not currently take into account all the packages that are installed. This behaviour is the source of the following dependency conflicts.\n",
      "sparkmagic 0.20.4 requires nest-asyncio==1.5.5, but you have nest-asyncio 1.5.6 which is incompatible.\n",
      "sagemaker-studio-analytics-extension 0.0.17 requires boto3<2.0,>=1.26.49, but you have boto3 1.16.56 which is incompatible.\n",
      "sagemaker-data-insights 0.3.3 requires numpy>=1.21.6, but you have numpy 1.18.5 which is incompatible.\u001b[0m\u001b[31m\n",
      "\u001b[0m\u001b[33mWARNING: Running pip as the 'root' user can result in broken permissions and conflicting behaviour with the system package manager. It is recommended to use a virtual environment instead: https://pip.pypa.io/warnings/venv\u001b[0m\u001b[33m\n",
      "\u001b[0m\u001b[33mWARNING: Running pip as the 'root' user can result in broken permissions and conflicting behaviour with the system package manager. It is recommended to use a virtual environment instead: https://pip.pypa.io/warnings/venv\u001b[0m\u001b[33m\n",
      "\u001b[0m\u001b[33mWARNING: Running pip as the 'root' user can result in broken permissions and conflicting behaviour with the system package manager. It is recommended to use a virtual environment instead: https://pip.pypa.io/warnings/venv\u001b[0m\u001b[33m\n",
      "\u001b[0m\u001b[33mWARNING: Running pip as the 'root' user can result in broken permissions and conflicting behaviour with the system package manager. It is recommended to use a virtual environment instead: https://pip.pypa.io/warnings/venv\u001b[0m\u001b[33m\n",
      "\u001b[0m\u001b[33mWARNING: Running pip as the 'root' user can result in broken permissions and conflicting behaviour with the system package manager. It is recommended to use a virtual environment instead: https://pip.pypa.io/warnings/venv\u001b[0m\u001b[33m\n",
      "\u001b[0m\u001b[33mWARNING: Running pip as the 'root' user can result in broken permissions and conflicting behaviour with the system package manager. It is recommended to use a virtual environment instead: https://pip.pypa.io/warnings/venv\u001b[0m\u001b[33m\n",
      "\u001b[0m\u001b[31mERROR: pip's dependency resolver does not currently take into account all the packages that are installed. This behaviour is the source of the following dependency conflicts.\n",
      "sparkmagic 0.20.4 requires nest-asyncio==1.5.5, but you have nest-asyncio 1.5.6 which is incompatible.\n",
      "sagemaker-studio-analytics-extension 0.0.17 requires boto3<2.0,>=1.26.49, but you have boto3 1.16.56 which is incompatible.\n",
      "sagemaker-data-insights 0.3.3 requires numpy>=1.21.6, but you have numpy 1.18.5 which is incompatible.\u001b[0m\u001b[31m\n",
      "\u001b[0m\u001b[33mWARNING: Running pip as the 'root' user can result in broken permissions and conflicting behaviour with the system package manager. It is recommended to use a virtual environment instead: https://pip.pypa.io/warnings/venv\u001b[0m\u001b[33m\n",
      "\u001b[0m\u001b[33mWARNING: Running pip as the 'root' user can result in broken permissions and conflicting behaviour with the system package manager. It is recommended to use a virtual environment instead: https://pip.pypa.io/warnings/venv\u001b[0m\u001b[33m\n",
      "\u001b[0mCollecting package metadata (current_repodata.json): done\n",
      "Solving environment: done\n",
      "\n",
      "## Package Plan ##\n",
      "\n",
      "  environment location: /opt/conda\n",
      "\n",
      "  added / updated specs:\n",
      "    - zip\n",
      "\n",
      "\n",
      "The following packages will be downloaded:\n",
      "\n",
      "    package                    |            build\n",
      "    ---------------------------|-----------------\n",
      "    zip-3.0                    |       h7f8727e_1         111 KB\n",
      "    ------------------------------------------------------------\n",
      "                                           Total:         111 KB\n",
      "\n",
      "The following NEW packages will be INSTALLED:\n",
      "\n",
      "  zip                pkgs/main/linux-64::zip-3.0-h7f8727e_1 None\n",
      "\n",
      "\n",
      "\n",
      "Downloading and Extracting Packages\n",
      "zip-3.0              | 111 KB    | ##################################### | 100% \n",
      "Preparing transaction: done\n",
      "Verifying transaction: done\n",
      "Executing transaction: done\n",
      "Retrieving notices: ...working... done\n",
      "\u001b[33mWARNING: Running pip as the 'root' user can result in broken permissions and conflicting behaviour with the system package manager. It is recommended to use a virtual environment instead: https://pip.pypa.io/warnings/venv\u001b[0m\u001b[33m\n",
      "\u001b[0m\u001b[33mWARNING: Running pip as the 'root' user can result in broken permissions and conflicting behaviour with the system package manager. It is recommended to use a virtual environment instead: https://pip.pypa.io/warnings/venv\u001b[0m\u001b[33m\n",
      "\u001b[0mPython 3.7.10\n",
      "Stored 'setup_dependencies_passed' (bool)\n",
      "Stored variables and their in-db values:\n",
      "df4                                        ->        Unnamed: 0  68.7000.119  62.6000.104  63.30\n",
      "ingest_create_athena_db_passed             -> True\n",
      "s3_public_goldendrive                      -> 's3://goldevdrive_data'\n",
      "setup_dependencies_passed                  -> True\n",
      "setup_iam_roles_passed                     -> True\n",
      "setup_instance_check_passed                -> True\n",
      "setup_s3_bucket_passed                     -> True\n"
     ]
    }
   ],
   "source": [
    "!python --version\n",
    "!pip list\n",
    "# Pip\n",
    "!pip install --disable-pip-version-check -q pip --upgrade > /dev/null\n",
    "!pip install --disable-pip-version-check -q wrapt --upgrade > /dev/null\n",
    "# AWS CLI and AWS Python SDK (boto3)\n",
    "!pip install --disable-pip-version-check -q awscli==1.18.216 boto3==1.16.56 botocore==1.19.56\n",
    "# SageMaker\n",
    "!pip install --disable-pip-version-check -q sagemaker==2.29.0\n",
    "!pip install --disable-pip-version-check -q smdebug==1.0.1\n",
    "!pip install --disable-pip-version-check -q sagemaker-experiments==0.1.26\n",
    "# PyTorch\n",
    "!conda install -y pytorch==1.6.0 -c pytorch\n",
    "# TensorFlow\n",
    "!pip install --disable-pip-version-check -q tensorflow==2.3.1\n",
    "# Hugging Face Transformers (BERT)\n",
    "!pip install --disable-pip-version-check -q transformers==3.5.1\n",
    "# TorchServe\n",
    "!pip install --disable-pip-version-check -q torchserve==0.3.0\n",
    "!pip install --disable-pip-version-check -q torch-model-archiver==0.3.0\n",
    "# PyAthena\n",
    "!pip install --disable-pip-version-check -q PyAthena==2.1.0\n",
    "# Redshift\n",
    "!pip install --disable-pip-version-check -q SQLAlchemy==1.3.22\n",
    "# AWS Data Wrangler\n",
    "!pip install --disable-pip-version-check -q awswrangler==2.3.0\n",
    "# StepFunctions\n",
    "!pip install --disable-pip-version-check -q stepfunctions==2.0.0rc1\n",
    "# Zip\n",
    "!conda install -y zip\n",
    "# Matplotlib\n",
    "!pip install --disable-pip-version-check -q matplotlib==3.1.3\n",
    "# Seaborn\n",
    "!pip install --disable-pip-version-check -q seaborn==0.10.0\n",
    "\n",
    "\n",
    "# Summarize\n",
    "!python --version\n",
    "# !pip list\n",
    "setup_dependencies_passed = True\n",
    "%store setup_dependencies_passed\n",
    "%store"
   ]
  },
  {
   "cell_type": "code",
   "execution_count": 3,
   "id": "6d676546-b158-48c5-a2c0-1b47ebab2963",
   "metadata": {
    "tags": []
   },
   "outputs": [],
   "source": [
    "import boto3, re, sys, math, json, os, sagemaker, urllib.request\n",
    "import io\n",
    "import sagemaker\n",
    "from sagemaker import get_execution_role\n",
    "from IPython.display import Image\n",
    "from IPython.display import display\n",
    "from time import gmtime, strftime\n",
    "from sagemaker.predictor import csv_serializer\n",
    "from pyathena import connect\n",
    "import pandas as pd\n",
    "import numpy as np\n",
    "import matplotlib.pyplot as plt\n",
    "%matplotlib inline\n",
    "import seaborn as sns\n",
    "from sklearn.decomposition import PCA\n",
    "from sklearn.model_selection import train_test_split, \\\n",
    "RepeatedStratifiedKFold, RandomizedSearchCV\n",
    "from sklearn.metrics import roc_curve, auc, mean_squared_error,\\\n",
    "precision_score, recall_score, f1_score, accuracy_score,\\\n",
    "confusion_matrix, plot_confusion_matrix, classification_report\n",
    "from sagemaker.tuner import HyperparameterTuner\n",
    "from sklearn.linear_model import LogisticRegression\n",
    "from sklearn.ensemble import RandomForestClassifier\n",
    "from scipy.stats import loguniform\n",
    "import warnings\n",
    "warnings.filterwarnings('ignore')"
   ]
  },
  {
   "cell_type": "code",
   "execution_count": 4,
   "id": "564976da-b1e8-4193-add5-7f203dc26dff",
   "metadata": {
    "tags": []
   },
   "outputs": [],
   "source": [
    "import boto3\n",
    "\n",
    "region = boto3.Session().region_name\n",
    "session = boto3.session.Session()\n",
    "\n",
    "ec2 = boto3.Session().client(service_name=\"ec2\", region_name=region)\n",
    "sm = boto3.Session().client(service_name=\"sagemaker\", region_name=region)"
   ]
  },
  {
   "cell_type": "code",
   "execution_count": 5,
   "id": "15076b99-e405-44c0-a7b7-383546ba88b2",
   "metadata": {
    "tags": []
   },
   "outputs": [
    {
     "name": "stdout",
     "output_type": "stream",
     "text": [
      "DomainId: d-x9g2xqzh9zoe\n",
      "Name: datascience-1-0-ml-t3-medium-1abf3407f667f989be9d86559395\n"
     ]
    }
   ],
   "source": [
    "import json\n",
    "\n",
    "notebook_instance_name = None\n",
    "\n",
    "try:\n",
    "    with open(\"/opt/ml/metadata/resource-metadata.json\") as notebook_info:\n",
    "        data = json.load(notebook_info)\n",
    "        domain_id = data[\"DomainId\"]\n",
    "        resource_arn = data[\"ResourceArn\"]\n",
    "        region = resource_arn.split(\":\")[3]\n",
    "        name = data[\"ResourceName\"]\n",
    "    print(\"DomainId: {}\".format(domain_id))\n",
    "    print(\"Name: {}\".format(name))\n",
    "except:\n",
    "    print(\"+++++++++++++++++++++++++++++++++++++++++\")\n",
    "    print(\"[ERROR]: COULD NOT RETRIEVE THE METADATA.\")\n",
    "    print(\"+++++++++++++++++++++++++++++++++++++++++\")"
   ]
  },
  {
   "cell_type": "code",
   "execution_count": 6,
   "id": "fe9bdaa8-dca8-4aff-82fd-c0e33060f884",
   "metadata": {
    "tags": []
   },
   "outputs": [
    {
     "name": "stdout",
     "output_type": "stream",
     "text": [
      "InService\n"
     ]
    }
   ],
   "source": [
    "describe_domain_response = sm.describe_domain(DomainId=domain_id)\n",
    "print(describe_domain_response[\"Status\"])"
   ]
  },
  {
   "cell_type": "code",
   "execution_count": 7,
   "id": "0ecb0834-eba6-43e8-b4cd-003fdcd491ed",
   "metadata": {
    "tags": []
   },
   "outputs": [
    {
     "name": "stdout",
     "output_type": "stream",
     "text": [
      "Enabled\n"
     ]
    }
   ],
   "source": [
    "try:\n",
    "    get_status_response = sm.get_sagemaker_servicecatalog_portfolio_status()\n",
    "    print(get_status_response[\"Status\"])\n",
    "except:\n",
    "    pass"
   ]
  },
  {
   "cell_type": "code",
   "execution_count": 8,
   "id": "5dec925b-da38-4fc3-98ee-4eb1dbb8d793",
   "metadata": {
    "tags": []
   },
   "outputs": [
    {
     "name": "stdout",
     "output_type": "stream",
     "text": [
      "[OK] Checks passed!  Great Job!!  Please Continue.\n"
     ]
    }
   ],
   "source": [
    "if (\n",
    "    describe_domain_response[\"Status\"] == \"InService\"\n",
    "    and get_status_response[\"Status\"] == \"Enabled\"\n",
    "    and \"datascience\" in name\n",
    "):\n",
    "    setup_instance_check_passed = True\n",
    "    print(\"[OK] Checks passed!  Great Job!!  Please Continue.\")\n",
    "else:\n",
    "    setup_instance_check_passed = False\n",
    "    print(\"+++++++++++++++++++++++++++++++++++++++++++++++\")\n",
    "    print(\"[ERROR]: WE HAVE IDENTIFIED A MISCONFIGURATION.\")\n",
    "    print(describe_domain_response[\"Status\"])\n",
    "    print(get_status_response[\"Status\"])\n",
    "    print(name)\n",
    "    print(\"+++++++++++++++++++++++++++++++++++++++++++++++\")"
   ]
  },
  {
   "cell_type": "code",
   "execution_count": 9,
   "id": "479efd36-735e-45d5-a5c6-1fa183f0e5a2",
   "metadata": {
    "tags": []
   },
   "outputs": [],
   "source": [
    "import boto3\n",
    "import sagemaker\n",
    "import time\n",
    "from time import gmtime, strftime\n",
    "\n",
    "sagemaker_session = sagemaker.Session()\n",
    "role = sagemaker.get_execution_role()\n",
    "bucket = sagemaker_session.default_bucket()\n",
    "region = boto3.Session().region_name\n",
    "\n",
    "from botocore.config import Config\n",
    "\n",
    "config = Config(retries={\"max_attempts\": 10, \"mode\": \"adaptive\"})\n",
    "\n",
    "iam = boto3.client(\"iam\", config=config)"
   ]
  },
  {
   "cell_type": "code",
   "execution_count": 10,
   "id": "b298fa5b-d26e-429b-8886-7a703d4b6a27",
   "metadata": {
    "tags": []
   },
   "outputs": [
    {
     "name": "stdout",
     "output_type": "stream",
     "text": [
      "Role name: LabRole\n"
     ]
    }
   ],
   "source": [
    "role_name = role.split(\"/\")[-1]\n",
    "\n",
    "print(\"Role name: {}\".format(role_name))"
   ]
  },
  {
   "cell_type": "code",
   "execution_count": 11,
   "id": "7b930d9e-31d5-448b-82ef-5c0b0797b4f5",
   "metadata": {
    "tags": []
   },
   "outputs": [
    {
     "name": "stdout",
     "output_type": "stream",
     "text": [
      "[OK] You are all set up to continue with this workshop!\n"
     ]
    }
   ],
   "source": [
    "admin = False\n",
    "post_policies = iam.list_attached_role_policies(RoleName=role_name)[\"AttachedPolicies\"]\n",
    "for post_policy in post_policies:\n",
    "    if post_policy[\"PolicyName\"] == \"AdministratorAccess\":\n",
    "        admin = True\n",
    "        break\n",
    "\n",
    "setup_iam_roles_passed = True\n",
    "print(\"[OK] You are all set up to continue with this workshop!\")"
   ]
  },
  {
   "cell_type": "code",
   "execution_count": 12,
   "id": "a01ad9db-4b15-4c78-b945-44fdde31f742",
   "metadata": {
    "tags": []
   },
   "outputs": [],
   "source": [
    "if not setup_instance_check_passed:\n",
    "    print(\"+++++++++++++++++++++++++++++++++++++++++++++++++++++++++++++++\")\n",
    "    print(\"[ERROR] YOU HAVE TO RUN ALL NOTEBOOKS IN THE SETUP FOLDER FIRST. You are missing Instance Check.\")\n",
    "    print(\"+++++++++++++++++++++++++++++++++++++++++++++++++++++++++++++++\")\n",
    "if not setup_dependencies_passed:\n",
    "    print(\"+++++++++++++++++++++++++++++++++++++++++++++++++++++++++++++++\")\n",
    "    print(\"[ERROR] YOU HAVE TO RUN ALL NOTEBOOKS IN THE SETUP FOLDER FIRST. You are missing Setup Dependencies.\")\n",
    "    print(\"+++++++++++++++++++++++++++++++++++++++++++++++++++++++++++++++\")\n",
    "if not setup_iam_roles_passed:\n",
    "    print(\"+++++++++++++++++++++++++++++++++++++++++++++++++++++++++++++++\")\n",
    "    print(\"[ERROR] YOU HAVE TO RUN ALL NOTEBOOKS IN THE SETUP FOLDER FIRST. You are missing Setup IAM Roles.\")\n",
    "    print(\"+++++++++++++++++++++++++++++++++++++++++++++++++++++++++++++++\")"
   ]
  },
  {
   "cell_type": "code",
   "execution_count": 13,
   "id": "fbf3c573-0770-4d1f-b054-7136205e338c",
   "metadata": {
    "tags": []
   },
   "outputs": [],
   "source": [
    "import boto3\n",
    "import sagemaker\n",
    "\n",
    "sess = sagemaker.Session()\n",
    "bucket = sess.default_bucket()\n",
    "role = sagemaker.get_execution_role()\n",
    "region = boto3.Session().region_name"
   ]
  },
  {
   "cell_type": "code",
   "execution_count": 14,
   "id": "90f303b7-07b7-4e28-a231-ce6e024cf37b",
   "metadata": {
    "tags": []
   },
   "outputs": [
    {
     "name": "stdout",
     "output_type": "stream",
     "text": [
      "\u001b[33mWARNING: Running pip as the 'root' user can result in broken permissions and conflicting behaviour with the system package manager. It is recommended to use a virtual environment instead: https://pip.pypa.io/warnings/venv\u001b[0m\u001b[33m\n",
      "\u001b[0m"
     ]
    }
   ],
   "source": [
    "!pip install --disable-pip-version-check -q PyAthena==2.1.0\n",
    "from pyathena import connect"
   ]
  },
  {
   "cell_type": "code",
   "execution_count": 15,
   "id": "1764c90f-a66c-413c-ad7a-db757bab708f",
   "metadata": {
    "tags": []
   },
   "outputs": [],
   "source": [
    "database_name = \"CA_Traffic\""
   ]
  },
  {
   "cell_type": "code",
   "execution_count": 16,
   "id": "e63267b2-2f1a-42e3-bdca-b9a889f07797",
   "metadata": {
    "tags": []
   },
   "outputs": [],
   "source": [
    "bucket = sess.default_bucket()\n",
    "# Set S3 staging directory -- this is a temporary directory used for Athena queries\n",
    "s3_staging_dir = \"s3://{0}/athena/staging\".format(bucket)"
   ]
  },
  {
   "cell_type": "code",
   "execution_count": 17,
   "id": "a1b74d9a-bbcf-4b59-aeb2-033c7fc51d8d",
   "metadata": {
    "tags": []
   },
   "outputs": [],
   "source": [
    "conn = connect(region_name=region, s3_staging_dir=s3_staging_dir)\n"
   ]
  },
  {
   "cell_type": "code",
   "execution_count": 18,
   "id": "102cf733-5067-49f4-ab51-9c5daf352d5f",
   "metadata": {
    "tags": []
   },
   "outputs": [
    {
     "name": "stdout",
     "output_type": "stream",
     "text": [
      "CREATE DATABASE IF NOT EXISTS CA_Traffic\n"
     ]
    }
   ],
   "source": [
    "statement = \"CREATE DATABASE IF NOT EXISTS {}\".format(database_name)\n",
    "print(statement)"
   ]
  },
  {
   "cell_type": "code",
   "execution_count": 19,
   "id": "7dcdca2b-2589-4ea5-9fa6-3cdefda13a6b",
   "metadata": {
    "tags": []
   },
   "outputs": [],
   "source": [
    "import pandas as pd\n",
    "\n"
   ]
  },
  {
   "cell_type": "code",
   "execution_count": 20,
   "id": "60ffebd1-28ad-4610-a4ce-88c3ff113c7b",
   "metadata": {
    "tags": []
   },
   "outputs": [
    {
     "data": {
      "text/html": [
       "<div>\n",
       "<style scoped>\n",
       "    .dataframe tbody tr th:only-of-type {\n",
       "        vertical-align: middle;\n",
       "    }\n",
       "\n",
       "    .dataframe tbody tr th {\n",
       "        vertical-align: top;\n",
       "    }\n",
       "\n",
       "    .dataframe thead th {\n",
       "        text-align: right;\n",
       "    }\n",
       "</style>\n",
       "<table border=\"1\" class=\"dataframe\">\n",
       "  <thead>\n",
       "    <tr style=\"text-align: right;\">\n",
       "      <th></th>\n",
       "    </tr>\n",
       "  </thead>\n",
       "  <tbody>\n",
       "  </tbody>\n",
       "</table>\n",
       "</div>"
      ],
      "text/plain": [
       "Empty DataFrame\n",
       "Columns: []\n",
       "Index: []"
      ]
     },
     "execution_count": 20,
     "metadata": {},
     "output_type": "execute_result"
    }
   ],
   "source": [
    "pd.read_sql(statement, conn)"
   ]
  },
  {
   "cell_type": "code",
   "execution_count": null,
   "id": "6abb2eb0-eca9-49ae-847d-37b6a2429fa5",
   "metadata": {},
   "outputs": [],
   "source": []
  },
  {
   "cell_type": "code",
   "execution_count": 21,
   "id": "d2cef837-af3c-4266-95bc-8685cd5e3b5e",
   "metadata": {
    "tags": []
   },
   "outputs": [
    {
     "data": {
      "text/html": [
       "<div>\n",
       "<style scoped>\n",
       "    .dataframe tbody tr th:only-of-type {\n",
       "        vertical-align: middle;\n",
       "    }\n",
       "\n",
       "    .dataframe tbody tr th {\n",
       "        vertical-align: top;\n",
       "    }\n",
       "\n",
       "    .dataframe thead th {\n",
       "        text-align: right;\n",
       "    }\n",
       "</style>\n",
       "<table border=\"1\" class=\"dataframe\">\n",
       "  <thead>\n",
       "    <tr style=\"text-align: right;\">\n",
       "      <th></th>\n",
       "      <th>database_name</th>\n",
       "    </tr>\n",
       "  </thead>\n",
       "  <tbody>\n",
       "    <tr>\n",
       "      <th>0</th>\n",
       "      <td>ca_traffic</td>\n",
       "    </tr>\n",
       "    <tr>\n",
       "      <th>1</th>\n",
       "      <td>default</td>\n",
       "    </tr>\n",
       "    <tr>\n",
       "      <th>2</th>\n",
       "      <td>goldendrive</td>\n",
       "    </tr>\n",
       "  </tbody>\n",
       "</table>\n",
       "</div>"
      ],
      "text/plain": [
       "  database_name\n",
       "0    ca_traffic\n",
       "1       default\n",
       "2   goldendrive"
      ]
     },
     "execution_count": 21,
     "metadata": {},
     "output_type": "execute_result"
    }
   ],
   "source": [
    "statement = \"SHOW DATABASES\"\n",
    "\n",
    "df_show = pd.read_sql(statement, conn)\n",
    "df_show.head(5)"
   ]
  },
  {
   "cell_type": "code",
   "execution_count": 22,
   "id": "008a50b9-8671-4766-94fe-57c891292720",
   "metadata": {
    "tags": []
   },
   "outputs": [],
   "source": [
    "if database_name in df_show.values:\n",
    "    ingest_create_athena_db_passed = True"
   ]
  },
  {
   "cell_type": "code",
   "execution_count": 23,
   "id": "f048423d-76bc-41ae-b656-68286301ec6e",
   "metadata": {
    "tags": []
   },
   "outputs": [],
   "source": [
    "# Set Athena parameters\n",
    "database_name = \"ca_traffic\"\n",
    "Ex_Ln_table = \"Ex_Ln\"\n",
    "HOV_table = \"HOV\"\n",
    "vol_table = \"vol\"\n",
    "Route77_table = 'Route77'\n",
    "s3_path_Ex_Ln = \"s3://{}/Express_Lanes.csv\".format(bucket)\n",
    "s3_path_HOV = \"s3://{}/HOV.csv\".format(bucket)\n",
    "s3_path_vol = \"s3://{}/Traffic_Volumes_AADT.csv\".format(bucket)\n",
    "s3_path_Route77 = \"s3://{}/Route_77.csv\".format(bucket)"
   ]
  },
  {
   "cell_type": "code",
   "execution_count": 24,
   "id": "b4b93327-0293-4530-98fa-bd30d92e41a7",
   "metadata": {
    "tags": []
   },
   "outputs": [
    {
     "data": {
      "text/html": [
       "<div>\n",
       "<style scoped>\n",
       "    .dataframe tbody tr th:only-of-type {\n",
       "        vertical-align: middle;\n",
       "    }\n",
       "\n",
       "    .dataframe tbody tr th {\n",
       "        vertical-align: top;\n",
       "    }\n",
       "\n",
       "    .dataframe thead th {\n",
       "        text-align: right;\n",
       "    }\n",
       "</style>\n",
       "<table border=\"1\" class=\"dataframe\">\n",
       "  <thead>\n",
       "    <tr style=\"text-align: right;\">\n",
       "      <th></th>\n",
       "    </tr>\n",
       "  </thead>\n",
       "  <tbody>\n",
       "  </tbody>\n",
       "</table>\n",
       "</div>"
      ],
      "text/plain": [
       "Empty DataFrame\n",
       "Columns: []\n",
       "Index: []"
      ]
     },
     "execution_count": 24,
     "metadata": {},
     "output_type": "execute_result"
    }
   ],
   "source": [
    "statement1 = \"\"\"CREATE EXTERNAL TABLE IF NOT EXISTS {}.{}(\n",
    "         OBJECTID int,\n",
    "         District int,\n",
    "         Route string,\n",
    "         Direction string,\n",
    "         Begin_County string,\n",
    "         Begin_Post_Mile string,\n",
    "         End_County string,\n",
    "         End_Post_Mile string,\n",
    "         Begin_Abs_Post_Mile int,\n",
    "         End_Abs_Post_Mile int,\n",
    "         Description string,\n",
    "         Length__Lane_Miles_ int,\n",
    "         Opening_Date string,\n",
    "         Occupancy_Requirement_for_Toll_ string,\n",
    "         Hours_of_Operation string,\n",
    "         Comments string,\n",
    "         Shape_Length int\n",
    ") ROW FORMAT DELIMITED FIELDS TERMINATED BY ',' LINES TERMINATED BY '\\\\n' LOCATION '{}'\n",
    "TBLPROPERTIES ('skip.header.line.count'='1')\"\"\".format(\n",
    "    database_name, Ex_Ln_table, s3_path_Ex_Ln\n",
    ")\n",
    "\n",
    "pd.read_sql(statement1, conn)\n"
   ]
  },
  {
   "cell_type": "code",
   "execution_count": 25,
   "id": "116ee2ee-94e7-4c6f-9961-042d5ef2d740",
   "metadata": {
    "tags": []
   },
   "outputs": [
    {
     "data": {
      "text/html": [
       "<div>\n",
       "<style scoped>\n",
       "    .dataframe tbody tr th:only-of-type {\n",
       "        vertical-align: middle;\n",
       "    }\n",
       "\n",
       "    .dataframe tbody tr th {\n",
       "        vertical-align: top;\n",
       "    }\n",
       "\n",
       "    .dataframe thead th {\n",
       "        text-align: right;\n",
       "    }\n",
       "</style>\n",
       "<table border=\"1\" class=\"dataframe\">\n",
       "  <thead>\n",
       "    <tr style=\"text-align: right;\">\n",
       "      <th></th>\n",
       "    </tr>\n",
       "  </thead>\n",
       "  <tbody>\n",
       "  </tbody>\n",
       "</table>\n",
       "</div>"
      ],
      "text/plain": [
       "Empty DataFrame\n",
       "Columns: []\n",
       "Index: []"
      ]
     },
     "execution_count": 25,
     "metadata": {},
     "output_type": "execute_result"
    }
   ],
   "source": [
    "statement2 = \"\"\"CREATE EXTERNAL TABLE IF NOT EXISTS {}.{}(\n",
    "         OBJECTID int,\n",
    "         District int,\n",
    "         Route string,\n",
    "         Direction string,\n",
    "         Begin_County string,\n",
    "         Begin_Post_Mile string,\n",
    "         End_County string,\n",
    "         End_Post_Mile string,\n",
    "         Begin_Abs_Post_Mile int,\n",
    "         End_Abs_Post_Mile int,\n",
    "         Description string,\n",
    "         Length__Lane_Miles_ int,\n",
    "         Occupancy_Requirement string,\n",
    "         Hours_of_Operation string,\n",
    "         Segment_Opening_Date string,\n",
    "         Comments string,\n",
    "         Shape_Length int\n",
    ") ROW FORMAT DELIMITED FIELDS TERMINATED BY ',' LINES TERMINATED BY '\\\\n' LOCATION '{}'\n",
    "TBLPROPERTIES ('skip.header.line.count'='1')\"\"\".format(\n",
    "    database_name, HOV_table, s3_path_HOV\n",
    ")\n",
    "\n",
    "pd.read_sql(statement2, conn)"
   ]
  },
  {
   "cell_type": "code",
   "execution_count": 26,
   "id": "7d7144bb-90f8-40b3-869b-41d65a42da5e",
   "metadata": {
    "tags": []
   },
   "outputs": [
    {
     "data": {
      "text/html": [
       "<div>\n",
       "<style scoped>\n",
       "    .dataframe tbody tr th:only-of-type {\n",
       "        vertical-align: middle;\n",
       "    }\n",
       "\n",
       "    .dataframe tbody tr th {\n",
       "        vertical-align: top;\n",
       "    }\n",
       "\n",
       "    .dataframe thead th {\n",
       "        text-align: right;\n",
       "    }\n",
       "</style>\n",
       "<table border=\"1\" class=\"dataframe\">\n",
       "  <thead>\n",
       "    <tr style=\"text-align: right;\">\n",
       "      <th></th>\n",
       "    </tr>\n",
       "  </thead>\n",
       "  <tbody>\n",
       "  </tbody>\n",
       "</table>\n",
       "</div>"
      ],
      "text/plain": [
       "Empty DataFrame\n",
       "Columns: []\n",
       "Index: []"
      ]
     },
     "execution_count": 26,
     "metadata": {},
     "output_type": "execute_result"
    }
   ],
   "source": [
    "statement3 = \"\"\"CREATE EXTERNAL TABLE IF NOT EXISTS {}.{}(\n",
    "         OBJECTID int,\n",
    "         District int,\n",
    "         Route int,       \n",
    "         RTE_SFX string,      \n",
    "         COUNTY string,\n",
    "         PM_PFX string, \n",
    "         PM int,\n",
    "         PM_SFX string,\n",
    "         DESCRIPTION string,\n",
    "         BACK_PEAK_HOUR int,\n",
    "         BACK_PEAK_MADT int,\n",
    "         BACK_AADT int,\n",
    "         AHEAD_PEAK_HOUR int,\n",
    "         AHEAD_PEAK_MADT int,\n",
    "         AHEAD_AADT int   \n",
    ") ROW FORMAT DELIMITED FIELDS TERMINATED BY ',' LINES TERMINATED BY '\\\\n' LOCATION '{}'\n",
    "TBLPROPERTIES ('skip.header.line.count'='1')\"\"\".format(\n",
    "    database_name, vol_table, s3_path_vol\n",
    ")\n",
    "\n",
    "pd.read_sql(statement3, conn)\n"
   ]
  },
  {
   "cell_type": "code",
   "execution_count": 27,
   "id": "b60d7543-49b8-48a8-87b9-0334b3e608ea",
   "metadata": {
    "tags": []
   },
   "outputs": [
    {
     "data": {
      "text/html": [
       "<div>\n",
       "<style scoped>\n",
       "    .dataframe tbody tr th:only-of-type {\n",
       "        vertical-align: middle;\n",
       "    }\n",
       "\n",
       "    .dataframe tbody tr th {\n",
       "        vertical-align: top;\n",
       "    }\n",
       "\n",
       "    .dataframe thead th {\n",
       "        text-align: right;\n",
       "    }\n",
       "</style>\n",
       "<table border=\"1\" class=\"dataframe\">\n",
       "  <thead>\n",
       "    <tr style=\"text-align: right;\">\n",
       "      <th></th>\n",
       "    </tr>\n",
       "  </thead>\n",
       "  <tbody>\n",
       "  </tbody>\n",
       "</table>\n",
       "</div>"
      ],
      "text/plain": [
       "Empty DataFrame\n",
       "Columns: []\n",
       "Index: []"
      ]
     },
     "execution_count": 27,
     "metadata": {},
     "output_type": "execute_result"
    }
   ],
   "source": [
    "\n",
    "statement4 = \"\"\"CREATE EXTERNAL TABLE IF NOT EXISTS {}.{}(\n",
    "         Date DATE,\n",
    "         Day string,\n",
    "         Lane string,\n",
    "         Date_Time TIMESTAMP,\n",
    "         Time TIMESTAMP,      \n",
    "         Minimum int,\n",
    "         Mean int, \n",
    "         Maximum int,\n",
    "         Lane_Pts_num int,\n",
    "         Oberserved_percent int\n",
    ") ROW FORMAT DELIMITED FIELDS TERMINATED BY ',' LINES TERMINATED BY '\\\\n' LOCATION '{}'\n",
    "TBLPROPERTIES ('skip.header.line.count'='1')\"\"\".format(\n",
    "    database_name, Route77_table, s3_path_Route77\n",
    ")\n",
    "\n",
    "pd.read_sql(statement4, conn)"
   ]
  },
  {
   "cell_type": "code",
   "execution_count": 106,
   "id": "8cd084cc-d3b1-432e-a89b-58cfeba3fc23",
   "metadata": {
    "tags": []
   },
   "outputs": [
    {
     "data": {
      "text/html": [
       "<div>\n",
       "<style scoped>\n",
       "    .dataframe tbody tr th:only-of-type {\n",
       "        vertical-align: middle;\n",
       "    }\n",
       "\n",
       "    .dataframe tbody tr th {\n",
       "        vertical-align: top;\n",
       "    }\n",
       "\n",
       "    .dataframe thead th {\n",
       "        text-align: right;\n",
       "    }\n",
       "</style>\n",
       "<table border=\"1\" class=\"dataframe\">\n",
       "  <thead>\n",
       "    <tr style=\"text-align: right;\">\n",
       "      <th></th>\n",
       "      <th>tab_name</th>\n",
       "    </tr>\n",
       "  </thead>\n",
       "  <tbody>\n",
       "    <tr>\n",
       "      <th>0</th>\n",
       "      <td>ex_ln</td>\n",
       "    </tr>\n",
       "    <tr>\n",
       "      <th>1</th>\n",
       "      <td>hov</td>\n",
       "    </tr>\n",
       "    <tr>\n",
       "      <th>2</th>\n",
       "      <td>route77</td>\n",
       "    </tr>\n",
       "    <tr>\n",
       "      <th>3</th>\n",
       "      <td>vol</td>\n",
       "    </tr>\n",
       "  </tbody>\n",
       "</table>\n",
       "</div>"
      ],
      "text/plain": [
       "  tab_name\n",
       "0    ex_ln\n",
       "1      hov\n",
       "2  route77\n",
       "3      vol"
      ]
     },
     "execution_count": 106,
     "metadata": {},
     "output_type": "execute_result"
    }
   ],
   "source": [
    "statement = \"SHOW TABLES in {}\".format(database_name)\n",
    "\n",
    "df_show = pd.read_sql(statement, conn)\n",
    "df_show.head(5)"
   ]
  },
  {
   "cell_type": "code",
   "execution_count": null,
   "id": "267504cc-76bd-460c-83f7-7c29ef889a4a",
   "metadata": {
    "tags": []
   },
   "outputs": [],
   "source": []
  },
  {
   "cell_type": "code",
   "execution_count": null,
   "id": "84f19f40-7124-4a6e-b784-df2e01ca5847",
   "metadata": {
    "tags": []
   },
   "outputs": [],
   "source": []
  },
  {
   "cell_type": "code",
   "execution_count": null,
   "id": "747e1231-558a-4172-9d9e-0b2b45b70db8",
   "metadata": {
    "tags": []
   },
   "outputs": [],
   "source": []
  },
  {
   "cell_type": "code",
   "execution_count": null,
   "id": "64e37f0c-9b29-4325-8fd3-1b3fdc5f250d",
   "metadata": {
    "tags": []
   },
   "outputs": [],
   "source": []
  },
  {
   "cell_type": "code",
   "execution_count": 33,
   "id": "25e7c7f5-72f4-4d63-be53-f0dc370bac44",
   "metadata": {
    "tags": []
   },
   "outputs": [
    {
     "name": "stdout",
     "output_type": "stream",
     "text": [
      "<class 'pandas.core.frame.DataFrame'>\n",
      "RangeIndex: 109 entries, 0 to 108\n",
      "Data columns (total 17 columns):\n",
      " #   Column                 Non-Null Count  Dtype  \n",
      "---  ------                 --------------  -----  \n",
      " 0   OBJECTID               109 non-null    int64  \n",
      " 1   District               109 non-null    int64  \n",
      " 2   Route                  109 non-null    object \n",
      " 3   Direction              109 non-null    object \n",
      " 4   Begin_County           109 non-null    object \n",
      " 5   Begin_Post_Mile        109 non-null    object \n",
      " 6   End_County             109 non-null    object \n",
      " 7   End_Post_Mile          109 non-null    object \n",
      " 8   Begin_Abs_Post_Mile    106 non-null    float64\n",
      " 9   End_Abs_Post_Mile      106 non-null    float64\n",
      " 10  Description            109 non-null    object \n",
      " 11  Length__Lane_Miles_    109 non-null    float64\n",
      " 12  Occupancy_Requirement  109 non-null    object \n",
      " 13  Hours_of_Operation     109 non-null    object \n",
      " 14  Segment_Opening_Date   105 non-null    object \n",
      " 15  Comments               83 non-null     object \n",
      " 16  Shape_Length           109 non-null    float64\n",
      "dtypes: float64(4), int64(2), object(11)\n",
      "memory usage: 14.6+ KB\n"
     ]
    },
    {
     "data": {
      "text/html": [
       "<div>\n",
       "<style scoped>\n",
       "    .dataframe tbody tr th:only-of-type {\n",
       "        vertical-align: middle;\n",
       "    }\n",
       "\n",
       "    .dataframe tbody tr th {\n",
       "        vertical-align: top;\n",
       "    }\n",
       "\n",
       "    .dataframe thead th {\n",
       "        text-align: right;\n",
       "    }\n",
       "</style>\n",
       "<table border=\"1\" class=\"dataframe\">\n",
       "  <thead>\n",
       "    <tr style=\"text-align: right;\">\n",
       "      <th></th>\n",
       "      <th>OBJECTID</th>\n",
       "      <th>District</th>\n",
       "      <th>Route</th>\n",
       "      <th>Direction</th>\n",
       "      <th>Begin_County</th>\n",
       "      <th>Begin_Post_Mile</th>\n",
       "      <th>End_County</th>\n",
       "      <th>End_Post_Mile</th>\n",
       "      <th>Begin_Abs_Post_Mile</th>\n",
       "      <th>End_Abs_Post_Mile</th>\n",
       "      <th>Description</th>\n",
       "      <th>Length__Lane_Miles_</th>\n",
       "      <th>Occupancy_Requirement</th>\n",
       "      <th>Hours_of_Operation</th>\n",
       "      <th>Segment_Opening_Date</th>\n",
       "      <th>Comments</th>\n",
       "      <th>Shape_Length</th>\n",
       "    </tr>\n",
       "  </thead>\n",
       "  <tbody>\n",
       "    <tr>\n",
       "      <th>0</th>\n",
       "      <td>1</td>\n",
       "      <td>3</td>\n",
       "      <td>50</td>\n",
       "      <td>EB</td>\n",
       "      <td>SAC</td>\n",
       "      <td>R5.371</td>\n",
       "      <td>ED</td>\n",
       "      <td>5.834</td>\n",
       "      <td>11.005</td>\n",
       "      <td>34.632</td>\n",
       "      <td>Watt Ave to Cameron Park Dr</td>\n",
       "      <td>23.627</td>\n",
       "      <td>2+</td>\n",
       "      <td>M-F 06:00-10:00 and 15:00-19:00</td>\n",
       "      <td>Watt Ave to Sunrise Blvd - Dec 2011; Sunrise B...</td>\n",
       "      <td>NaN</td>\n",
       "      <td>48659.155980</td>\n",
       "    </tr>\n",
       "    <tr>\n",
       "      <th>1</th>\n",
       "      <td>2</td>\n",
       "      <td>3</td>\n",
       "      <td>80</td>\n",
       "      <td>EB</td>\n",
       "      <td>SAC</td>\n",
       "      <td>M0.767</td>\n",
       "      <td>PLA</td>\n",
       "      <td>4.718</td>\n",
       "      <td>84.691</td>\n",
       "      <td>106.237</td>\n",
       "      <td>West El Camino Ave to SR-65</td>\n",
       "      <td>21.546</td>\n",
       "      <td>2+</td>\n",
       "      <td>M-F 06:00-10:00 and 15:00-19:00</td>\n",
       "      <td>Yolo Co Line to Longview Dr - Dec 2016; Longvi...</td>\n",
       "      <td>NaN</td>\n",
       "      <td>44432.185806</td>\n",
       "    </tr>\n",
       "    <tr>\n",
       "      <th>2</th>\n",
       "      <td>3</td>\n",
       "      <td>4</td>\n",
       "      <td>80</td>\n",
       "      <td>EB</td>\n",
       "      <td>SOL</td>\n",
       "      <td>0.504</td>\n",
       "      <td>SOL</td>\n",
       "      <td>0.673</td>\n",
       "      <td>27.995</td>\n",
       "      <td>28.164</td>\n",
       "      <td>Carquinez Bridge Toll Plaza</td>\n",
       "      <td>0.255</td>\n",
       "      <td>3+</td>\n",
       "      <td>M-F 05:00-10:00 and 15:00-19:00</td>\n",
       "      <td>Opened; W/O Toll Plaza to E/O Toll Plaza, 07/3...</td>\n",
       "      <td>2-Seat Vehicles with 2 Persons Permitted; Toll...</td>\n",
       "      <td>348.131415</td>\n",
       "    </tr>\n",
       "    <tr>\n",
       "      <th>3</th>\n",
       "      <td>4</td>\n",
       "      <td>4</td>\n",
       "      <td>80</td>\n",
       "      <td>EB</td>\n",
       "      <td>SOL</td>\n",
       "      <td>R11.485</td>\n",
       "      <td>SOL</td>\n",
       "      <td>19.594</td>\n",
       "      <td>38.976</td>\n",
       "      <td>47.096</td>\n",
       "      <td>Red Top Road to Air Base Pkwy</td>\n",
       "      <td>8.120</td>\n",
       "      <td>2+</td>\n",
       "      <td>M-F 05:00-10:00 and 15:00-19:00</td>\n",
       "      <td>Opened; Red Top Road to E/O Air Base Pkwy., 11...</td>\n",
       "      <td>NaN</td>\n",
       "      <td>16660.846138</td>\n",
       "    </tr>\n",
       "    <tr>\n",
       "      <th>4</th>\n",
       "      <td>5</td>\n",
       "      <td>7</td>\n",
       "      <td>10</td>\n",
       "      <td>EB</td>\n",
       "      <td>LA</td>\n",
       "      <td>30.995</td>\n",
       "      <td>LA</td>\n",
       "      <td>48.265</td>\n",
       "      <td>29.495</td>\n",
       "      <td>46.765</td>\n",
       "      <td>I-605 to San Bernardino County Line</td>\n",
       "      <td>17.270</td>\n",
       "      <td>2+</td>\n",
       "      <td>24 Hr</td>\n",
       "      <td>Rte 605 to 0.6 mi west of Puente Ave (Francisq...</td>\n",
       "      <td>Continues into San Bernardino County</td>\n",
       "      <td>33527.727027</td>\n",
       "    </tr>\n",
       "  </tbody>\n",
       "</table>\n",
       "</div>"
      ],
      "text/plain": [
       "   OBJECTID  District Route Direction Begin_County Begin_Post_Mile End_County  \\\n",
       "0         1         3    50        EB          SAC          R5.371         ED   \n",
       "1         2         3    80        EB          SAC          M0.767        PLA   \n",
       "2         3         4    80        EB          SOL           0.504        SOL   \n",
       "3         4         4    80        EB          SOL         R11.485        SOL   \n",
       "4         5         7    10        EB           LA          30.995         LA   \n",
       "\n",
       "  End_Post_Mile  Begin_Abs_Post_Mile  End_Abs_Post_Mile  \\\n",
       "0         5.834               11.005             34.632   \n",
       "1         4.718               84.691            106.237   \n",
       "2         0.673               27.995             28.164   \n",
       "3        19.594               38.976             47.096   \n",
       "4        48.265               29.495             46.765   \n",
       "\n",
       "                           Description  Length__Lane_Miles_  \\\n",
       "0          Watt Ave to Cameron Park Dr               23.627   \n",
       "1          West El Camino Ave to SR-65               21.546   \n",
       "2          Carquinez Bridge Toll Plaza                0.255   \n",
       "3        Red Top Road to Air Base Pkwy                8.120   \n",
       "4  I-605 to San Bernardino County Line               17.270   \n",
       "\n",
       "  Occupancy_Requirement               Hours_of_Operation  \\\n",
       "0                    2+  M-F 06:00-10:00 and 15:00-19:00   \n",
       "1                    2+  M-F 06:00-10:00 and 15:00-19:00   \n",
       "2                    3+  M-F 05:00-10:00 and 15:00-19:00   \n",
       "3                    2+  M-F 05:00-10:00 and 15:00-19:00   \n",
       "4                    2+                            24 Hr   \n",
       "\n",
       "                                Segment_Opening_Date  \\\n",
       "0  Watt Ave to Sunrise Blvd - Dec 2011; Sunrise B...   \n",
       "1  Yolo Co Line to Longview Dr - Dec 2016; Longvi...   \n",
       "2  Opened; W/O Toll Plaza to E/O Toll Plaza, 07/3...   \n",
       "3  Opened; Red Top Road to E/O Air Base Pkwy., 11...   \n",
       "4  Rte 605 to 0.6 mi west of Puente Ave (Francisq...   \n",
       "\n",
       "                                            Comments  Shape_Length  \n",
       "0                                                NaN  48659.155980  \n",
       "1                                                NaN  44432.185806  \n",
       "2  2-Seat Vehicles with 2 Persons Permitted; Toll...    348.131415  \n",
       "3                                                NaN  16660.846138  \n",
       "4               Continues into San Bernardino County  33527.727027  "
      ]
     },
     "execution_count": 33,
     "metadata": {},
     "output_type": "execute_result"
    }
   ],
   "source": [
    "#HOV\n",
    "\n",
    "\n",
    "HOV_df = pd.read_csv(\"s3://sagemaker-us-east-1-938981654669/GoldenDrive/Data/HOV.csv\")\n",
    "HOV_df.info()\n",
    "HOV_df.head(5)"
   ]
  },
  {
   "cell_type": "code",
   "execution_count": 34,
   "id": "3490119b-7c5e-4669-b745-f5260182ea6c",
   "metadata": {
    "tags": []
   },
   "outputs": [
    {
     "data": {
      "image/png": "[encoded data removed]",
      "text/plain": [
       "<Figure size 640x480 with 4 Axes>"
      ]
     },
     "metadata": {},
     "output_type": "display_data"
    }
   ],
   "source": [
    "n_bins = 10\n",
    "fig, ((ax0, ax1), (ax2, ax3)) = plt.subplots(nrows=2, ncols=2)\n",
    "\n",
    "ax0.hist(HOV_df['District'], n_bins, density=True, histtype='bar', stacked = True)\n",
    "ax0.set_title('District')\n",
    "\n",
    "ax1.hist(HOV_df['Begin_Abs_Post_Mile'], n_bins, density=True, histtype='bar', stacked=True)\n",
    "ax1.set_title('Begin_Abs_Post_Mile')\n",
    "\n",
    "ax2.hist(HOV_df['End_Abs_Post_Mile'], n_bins, histtype='bar', stacked=True)\n",
    "ax2.set_title('End_Abs_Post_Mile')\n",
    "\n",
    "ax3.hist(HOV_df['Length__Lane_Miles_'], n_bins, histtype='bar', stacked=True)\n",
    "ax3.set_title('Day Length__Lane_Miles_')\n",
    "\n",
    "fig.tight_layout()\n",
    "plt.show()\n"
   ]
  },
  {
   "cell_type": "code",
   "execution_count": 35,
   "id": "70d2b2eb-246a-4777-a32b-3ed26e015027",
   "metadata": {
    "tags": []
   },
   "outputs": [
    {
     "data": {
      "image/png": "[encoded data removed]",
      "text/plain": [
       "<Figure size 1474.24x700 with 1 Axes>"
      ]
     },
     "metadata": {},
     "output_type": "display_data"
    }
   ],
   "source": [
    "# Create a grouped bar chart using seaborn\n",
    "sns.set_style(\"whitegrid\")\n",
    "sns.set_palette(\"husl\", 2)\n",
    "ax = sns.catplot(x='Route', y='Length__Lane_Miles_', hue='Direction', \n",
    "                 kind='bar', data=HOV_df, height = 7, aspect=2)\n",
    "\n",
    "# Set the axis labels and title\n",
    "ax.set_xlabels('Freeway Route Number')\n",
    "ax.set_ylabels('Freeway Length (Miles)')\n",
    "ax.set(title='Freeway Length by Route Number and Direction')\n",
    "\n",
    "# Show the plot\n",
    "plt.show()"
   ]
  },
  {
   "cell_type": "code",
   "execution_count": 36,
   "id": "80733928-6d01-493c-a958-57d9784d02e3",
   "metadata": {
    "tags": []
   },
   "outputs": [
    {
     "data": {
      "image/png": "[encoded data removed]",
      "text/plain": [
       "<Figure size 1000x700 with 1 Axes>"
      ]
     },
     "metadata": {},
     "output_type": "display_data"
    }
   ],
   "source": [
    "# Group the data by county and sum the lane miles\n",
    "grouped_data = HOV_df.groupby(['Begin_County', 'End_County']).agg({'Length__Lane_Miles_': 'sum'}).reset_index()\n",
    "\n",
    "# Create a horizontal bar chart\n",
    "fig, ax = plt.subplots(figsize=(10, 7))\n",
    "bars = ax.barh(y=grouped_data['Begin_County'] + ' - ' + grouped_data['End_County'], width=grouped_data['Length__Lane_Miles_'], color='navy')\n",
    "\n",
    "# Set the axis labels and title\n",
    "ax.set_xlabel('Lane Miles')\n",
    "ax.set_ylabel('County Range')\n",
    "ax.set_title('Total Lane Miles by County Range')\n",
    "\n",
    "# Add labels to the bars\n",
    "for i, bar in enumerate(bars):\n",
    "    value = bar.get_width()\n",
    "    x_pos = value + 5\n",
    "    y_pos = i\n",
    "    ax.text(x_pos, y_pos, str(round(value)), va='center')\n",
    "\n",
    "# Show the plot\n",
    "plt.show()"
   ]
  },
  {
   "cell_type": "code",
   "execution_count": 37,
   "id": "6ac996c8-38ce-4240-af28-c3a4a1bdc046",
   "metadata": {
    "tags": []
   },
   "outputs": [],
   "source": [
    "#Traffic volume table\n",
    "\n",
    "# vol_df = pd.read_csv(\"s3://sagemaker-us-east-1-938981654669/GoldenDrive/Data/Traffic_Volumes_AADT.csv\")\n",
    "vol_df = pd.read_csv(\"s3://sagemaker-us-east-1-938981654669/GoldenDrive/Data/HOV2.csv\")\n",
    "#\"s3://sagemaker-us-east-1-938981654669/GoldenDrive/Data/HOV.csv\"\n",
    "#vol_df.info()\n",
    "#vol_df.head(5)"
   ]
  },
  {
   "cell_type": "code",
   "execution_count": null,
   "id": "021274d0-b66c-4e65-8aaa-5374163c3eb4",
   "metadata": {
    "tags": []
   },
   "outputs": [],
   "source": []
  },
  {
   "cell_type": "code",
   "execution_count": 38,
   "id": "0d858715-d033-4fa2-8f46-b008c87a5f72",
   "metadata": {
    "tags": []
   },
   "outputs": [
    {
     "data": {
      "text/html": [
       "<div>\n",
       "<style scoped>\n",
       "    .dataframe tbody tr th:only-of-type {\n",
       "        vertical-align: middle;\n",
       "    }\n",
       "\n",
       "    .dataframe tbody tr th {\n",
       "        vertical-align: top;\n",
       "    }\n",
       "\n",
       "    .dataframe thead th {\n",
       "        text-align: right;\n",
       "    }\n",
       "</style>\n",
       "<table border=\"1\" class=\"dataframe\">\n",
       "  <thead>\n",
       "    <tr style=\"text-align: right;\">\n",
       "      <th></th>\n",
       "      <th>ROUTE</th>\n",
       "      <th>BACK_PEAK_HOUR</th>\n",
       "      <th>BACK_AADT</th>\n",
       "      <th>Rate</th>\n",
       "    </tr>\n",
       "  </thead>\n",
       "  <tbody>\n",
       "    <tr>\n",
       "      <th>187</th>\n",
       "      <td>220</td>\n",
       "      <td>474.000000</td>\n",
       "      <td>322.000000</td>\n",
       "      <td>147.204969</td>\n",
       "    </tr>\n",
       "    <tr>\n",
       "      <th>178</th>\n",
       "      <td>207</td>\n",
       "      <td>300.000000</td>\n",
       "      <td>740.000000</td>\n",
       "      <td>40.540541</td>\n",
       "    </tr>\n",
       "    <tr>\n",
       "      <th>120</th>\n",
       "      <td>136</td>\n",
       "      <td>80.000000</td>\n",
       "      <td>280.000000</td>\n",
       "      <td>28.571429</td>\n",
       "    </tr>\n",
       "    <tr>\n",
       "      <th>225</th>\n",
       "      <td>284</td>\n",
       "      <td>100.000000</td>\n",
       "      <td>370.000000</td>\n",
       "      <td>27.027027</td>\n",
       "    </tr>\n",
       "    <tr>\n",
       "      <th>217</th>\n",
       "      <td>270</td>\n",
       "      <td>120.000000</td>\n",
       "      <td>450.000000</td>\n",
       "      <td>26.666667</td>\n",
       "    </tr>\n",
       "    <tr>\n",
       "      <th>214</th>\n",
       "      <td>266</td>\n",
       "      <td>40.000000</td>\n",
       "      <td>160.000000</td>\n",
       "      <td>25.000000</td>\n",
       "    </tr>\n",
       "    <tr>\n",
       "      <th>206</th>\n",
       "      <td>254</td>\n",
       "      <td>263.333333</td>\n",
       "      <td>1106.666667</td>\n",
       "      <td>23.795181</td>\n",
       "    </tr>\n",
       "    <tr>\n",
       "      <th>146</th>\n",
       "      <td>167</td>\n",
       "      <td>20.000000</td>\n",
       "      <td>90.000000</td>\n",
       "      <td>22.222222</td>\n",
       "    </tr>\n",
       "    <tr>\n",
       "      <th>131</th>\n",
       "      <td>150</td>\n",
       "      <td>1967.333333</td>\n",
       "      <td>9116.666667</td>\n",
       "      <td>21.579525</td>\n",
       "    </tr>\n",
       "    <tr>\n",
       "      <th>138</th>\n",
       "      <td>158</td>\n",
       "      <td>255.000000</td>\n",
       "      <td>1187.500000</td>\n",
       "      <td>21.473684</td>\n",
       "    </tr>\n",
       "  </tbody>\n",
       "</table>\n",
       "</div>"
      ],
      "text/plain": [
       "     ROUTE  BACK_PEAK_HOUR    BACK_AADT        Rate\n",
       "187    220      474.000000   322.000000  147.204969\n",
       "178    207      300.000000   740.000000   40.540541\n",
       "120    136       80.000000   280.000000   28.571429\n",
       "225    284      100.000000   370.000000   27.027027\n",
       "217    270      120.000000   450.000000   26.666667\n",
       "214    266       40.000000   160.000000   25.000000\n",
       "206    254      263.333333  1106.666667   23.795181\n",
       "146    167       20.000000    90.000000   22.222222\n",
       "131    150     1967.333333  9116.666667   21.579525\n",
       "138    158      255.000000  1187.500000   21.473684"
      ]
     },
     "execution_count": 38,
     "metadata": {},
     "output_type": "execute_result"
    }
   ],
   "source": [
    "grouped_data = vol_df.groupby('ROUTE').mean().reset_index()\n",
    "grouped_data_back = grouped_data[['ROUTE', 'BACK_PEAK_HOUR','BACK_AADT']]\n",
    "grouped_data_back['Rate'] = (grouped_data_back['BACK_PEAK_HOUR'] / grouped_data_back['BACK_AADT']) * 100\n",
    "grouped_data_back = grouped_data_back.sort_values( \"Rate\", ascending = False).head(10)\n",
    "grouped_data_back.style.background_gradient(cmap=\"Blues\")\n",
    "grouped_data_back"
   ]
  },
  {
   "cell_type": "code",
   "execution_count": 39,
   "id": "0b1d73d7-059a-44f4-8968-0bc763105a2b",
   "metadata": {
    "tags": []
   },
   "outputs": [
    {
     "data": {
      "text/html": [
       "<div>\n",
       "<style scoped>\n",
       "    .dataframe tbody tr th:only-of-type {\n",
       "        vertical-align: middle;\n",
       "    }\n",
       "\n",
       "    .dataframe tbody tr th {\n",
       "        vertical-align: top;\n",
       "    }\n",
       "\n",
       "    .dataframe thead th {\n",
       "        text-align: right;\n",
       "    }\n",
       "</style>\n",
       "<table border=\"1\" class=\"dataframe\">\n",
       "  <thead>\n",
       "    <tr style=\"text-align: right;\">\n",
       "      <th></th>\n",
       "      <th>ROUTE</th>\n",
       "      <th>AHEAD_PEAK_HOUR</th>\n",
       "      <th>AHEAD_AADT</th>\n",
       "      <th>Rate</th>\n",
       "    </tr>\n",
       "  </thead>\n",
       "  <tbody>\n",
       "    <tr>\n",
       "      <th>217</th>\n",
       "      <td>270</td>\n",
       "      <td>90.000000</td>\n",
       "      <td>210.000000</td>\n",
       "      <td>42.857143</td>\n",
       "    </tr>\n",
       "    <tr>\n",
       "      <th>178</th>\n",
       "      <td>207</td>\n",
       "      <td>300.000000</td>\n",
       "      <td>750.000000</td>\n",
       "      <td>40.000000</td>\n",
       "    </tr>\n",
       "    <tr>\n",
       "      <th>192</th>\n",
       "      <td>229</td>\n",
       "      <td>60.000000</td>\n",
       "      <td>170.000000</td>\n",
       "      <td>35.294118</td>\n",
       "    </tr>\n",
       "    <tr>\n",
       "      <th>214</th>\n",
       "      <td>266</td>\n",
       "      <td>75.000000</td>\n",
       "      <td>215.000000</td>\n",
       "      <td>34.883721</td>\n",
       "    </tr>\n",
       "    <tr>\n",
       "      <th>84</th>\n",
       "      <td>95</td>\n",
       "      <td>718.000000</td>\n",
       "      <td>2685.000000</td>\n",
       "      <td>26.741155</td>\n",
       "    </tr>\n",
       "    <tr>\n",
       "      <th>187</th>\n",
       "      <td>220</td>\n",
       "      <td>76.000000</td>\n",
       "      <td>322.000000</td>\n",
       "      <td>23.602484</td>\n",
       "    </tr>\n",
       "    <tr>\n",
       "      <th>85</th>\n",
       "      <td>96</td>\n",
       "      <td>272.727273</td>\n",
       "      <td>1155.681818</td>\n",
       "      <td>23.598820</td>\n",
       "    </tr>\n",
       "    <tr>\n",
       "      <th>138</th>\n",
       "      <td>158</td>\n",
       "      <td>315.000000</td>\n",
       "      <td>1342.500000</td>\n",
       "      <td>23.463687</td>\n",
       "    </tr>\n",
       "    <tr>\n",
       "      <th>225</th>\n",
       "      <td>284</td>\n",
       "      <td>150.000000</td>\n",
       "      <td>660.000000</td>\n",
       "      <td>22.727273</td>\n",
       "    </tr>\n",
       "    <tr>\n",
       "      <th>218</th>\n",
       "      <td>271</td>\n",
       "      <td>51.428571</td>\n",
       "      <td>226.428571</td>\n",
       "      <td>22.712934</td>\n",
       "    </tr>\n",
       "  </tbody>\n",
       "</table>\n",
       "</div>"
      ],
      "text/plain": [
       "     ROUTE  AHEAD_PEAK_HOUR   AHEAD_AADT       Rate\n",
       "217    270        90.000000   210.000000  42.857143\n",
       "178    207       300.000000   750.000000  40.000000\n",
       "192    229        60.000000   170.000000  35.294118\n",
       "214    266        75.000000   215.000000  34.883721\n",
       "84      95       718.000000  2685.000000  26.741155\n",
       "187    220        76.000000   322.000000  23.602484\n",
       "85      96       272.727273  1155.681818  23.598820\n",
       "138    158       315.000000  1342.500000  23.463687\n",
       "225    284       150.000000   660.000000  22.727273\n",
       "218    271        51.428571   226.428571  22.712934"
      ]
     },
     "execution_count": 39,
     "metadata": {},
     "output_type": "execute_result"
    }
   ],
   "source": [
    "grouped_data_ahead = grouped_data[['ROUTE', 'AHEAD_PEAK_HOUR','AHEAD_AADT']]\n",
    "grouped_data_ahead['Rate'] = (grouped_data_ahead['AHEAD_PEAK_HOUR'] / grouped_data_ahead['AHEAD_AADT']) * 100\n",
    "grouped_data_ahead = grouped_data_ahead.sort_values( \"Rate\", ascending = False).head(10)\n",
    "grouped_data_ahead.style.background_gradient(cmap=\"Blues\")\n",
    "grouped_data_ahead"
   ]
  },
  {
   "cell_type": "code",
   "execution_count": 40,
   "id": "5a6e3987-9db5-4837-8cec-6e76d65511f5",
   "metadata": {
    "tags": []
   },
   "outputs": [
    {
     "data": {
      "text/plain": [
       "<matplotlib.axes._subplots.AxesSubplot at 0x7f2950eaf6d0>"
      ]
     },
     "execution_count": 40,
     "metadata": {},
     "output_type": "execute_result"
    },
    {
     "data": {
      "image/png": "[encoded data removed]",
      "text/plain": [
       "<Figure size 1000x100 with 1 Axes>"
      ]
     },
     "metadata": {},
     "output_type": "display_data"
    },
    {
     "data": {
      "image/png": "[encoded data removed]",
      "text/plain": [
       "<Figure size 1000x100 with 1 Axes>"
      ]
     },
     "metadata": {},
     "output_type": "display_data"
    },
    {
     "data": {
      "image/png": "[encoded data removed]",
      "text/plain": [
       "<Figure size 1000x100 with 1 Axes>"
      ]
     },
     "metadata": {},
     "output_type": "display_data"
    },
    {
     "data": {
      "image/png": "[encoded data removed]",
      "text/plain": [
       "<Figure size 1000x100 with 1 Axes>"
      ]
     },
     "metadata": {},
     "output_type": "display_data"
    },
    {
     "data": {
      "image/png": "[encoded data removed]",
      "text/plain": [
       "<Figure size 1000x100 with 1 Axes>"
      ]
     },
     "metadata": {},
     "output_type": "display_data"
    },
    {
     "data": {
      "image/png": "[encoded data removed]",
      "text/plain": [
       "<Figure size 1000x100 with 1 Axes>"
      ]
     },
     "metadata": {},
     "output_type": "display_data"
    }
   ],
   "source": [
    "fig,ax = plt.subplots(figsize = (10,1))\n",
    "sns.boxplot(vol_df.BACK_PEAK_HOUR)\n",
    "\n",
    "fig,ax = plt.subplots(figsize = (10,1))\n",
    "sns.boxplot(vol_df.BACK_PEAK_MADT)\n",
    "\n",
    "fig,ax = plt.subplots(figsize = (10,1))\n",
    "sns.boxplot(vol_df.BACK_AADT)\n",
    "\n",
    "fig,ax = plt.subplots(figsize = (10,1))\n",
    "sns.boxplot(vol_df.AHEAD_PEAK_HOUR)\n",
    "\n",
    "fig,ax = plt.subplots(figsize = (10,1))\n",
    "sns.boxplot(vol_df.AHEAD_PEAK_MADT)\n",
    "\n",
    "fig,ax = plt.subplots(figsize = (10,1))\n",
    "sns.boxplot(vol_df.AHEAD_AADT)"
   ]
  },
  {
   "cell_type": "code",
   "execution_count": 41,
   "id": "fc5c5705-7408-4691-8e0c-301dced67328",
   "metadata": {
    "tags": []
   },
   "outputs": [
    {
     "name": "stdout",
     "output_type": "stream",
     "text": [
      "<class 'pandas.core.frame.DataFrame'>\n",
      "RangeIndex: 10080 entries, 0 to 10079\n",
      "Data columns (total 10 columns):\n",
      " #   Column              Non-Null Count  Dtype  \n",
      "---  ------              --------------  -----  \n",
      " 0   Date                10080 non-null  object \n",
      " 1   Day                 10080 non-null  object \n",
      " 2   Lane                10080 non-null  object \n",
      " 3   Date_Time           10080 non-null  object \n",
      " 4   Time                10080 non-null  object \n",
      " 5   Minimum             10080 non-null  float64\n",
      " 6   Mean                10080 non-null  float64\n",
      " 7   Maximum             10080 non-null  float64\n",
      " 8   Lane_Pts_num        10080 non-null  int64  \n",
      " 9   Oberserved_percent  10080 non-null  float64\n",
      "dtypes: float64(4), int64(1), object(5)\n",
      "memory usage: 787.6+ KB\n"
     ]
    },
    {
     "data": {
      "text/html": [
       "<div>\n",
       "<style scoped>\n",
       "    .dataframe tbody tr th:only-of-type {\n",
       "        vertical-align: middle;\n",
       "    }\n",
       "\n",
       "    .dataframe tbody tr th {\n",
       "        vertical-align: top;\n",
       "    }\n",
       "\n",
       "    .dataframe thead th {\n",
       "        text-align: right;\n",
       "    }\n",
       "</style>\n",
       "<table border=\"1\" class=\"dataframe\">\n",
       "  <thead>\n",
       "    <tr style=\"text-align: right;\">\n",
       "      <th></th>\n",
       "      <th>Date</th>\n",
       "      <th>Day</th>\n",
       "      <th>Lane</th>\n",
       "      <th>Date_Time</th>\n",
       "      <th>Time</th>\n",
       "      <th>Minimum</th>\n",
       "      <th>Mean</th>\n",
       "      <th>Maximum</th>\n",
       "      <th>Lane_Pts_num</th>\n",
       "      <th>Oberserved_percent</th>\n",
       "    </tr>\n",
       "  </thead>\n",
       "  <tbody>\n",
       "    <tr>\n",
       "      <th>0</th>\n",
       "      <td>3/5/23</td>\n",
       "      <td>Sunday</td>\n",
       "      <td>Lane1</td>\n",
       "      <td>3/5/23 0:00</td>\n",
       "      <td>0:00:00</td>\n",
       "      <td>30.37</td>\n",
       "      <td>30.37</td>\n",
       "      <td>30.37</td>\n",
       "      <td>318</td>\n",
       "      <td>38.7</td>\n",
       "    </tr>\n",
       "    <tr>\n",
       "      <th>1</th>\n",
       "      <td>3/5/23</td>\n",
       "      <td>Sunday</td>\n",
       "      <td>Lane1</td>\n",
       "      <td>3/5/23 0:05</td>\n",
       "      <td>0:05:00</td>\n",
       "      <td>30.40</td>\n",
       "      <td>30.40</td>\n",
       "      <td>30.40</td>\n",
       "      <td>318</td>\n",
       "      <td>39.3</td>\n",
       "    </tr>\n",
       "    <tr>\n",
       "      <th>2</th>\n",
       "      <td>3/5/23</td>\n",
       "      <td>Sunday</td>\n",
       "      <td>Lane1</td>\n",
       "      <td>3/5/23 0:10</td>\n",
       "      <td>0:10:00</td>\n",
       "      <td>30.45</td>\n",
       "      <td>30.45</td>\n",
       "      <td>30.45</td>\n",
       "      <td>317</td>\n",
       "      <td>39.1</td>\n",
       "    </tr>\n",
       "    <tr>\n",
       "      <th>3</th>\n",
       "      <td>3/5/23</td>\n",
       "      <td>Sunday</td>\n",
       "      <td>Lane1</td>\n",
       "      <td>3/5/23 0:15</td>\n",
       "      <td>0:15:00</td>\n",
       "      <td>30.52</td>\n",
       "      <td>30.52</td>\n",
       "      <td>30.52</td>\n",
       "      <td>317</td>\n",
       "      <td>38.8</td>\n",
       "    </tr>\n",
       "    <tr>\n",
       "      <th>4</th>\n",
       "      <td>3/5/23</td>\n",
       "      <td>Sunday</td>\n",
       "      <td>Lane1</td>\n",
       "      <td>3/5/23 0:20</td>\n",
       "      <td>0:20:00</td>\n",
       "      <td>30.40</td>\n",
       "      <td>30.40</td>\n",
       "      <td>30.40</td>\n",
       "      <td>318</td>\n",
       "      <td>39.3</td>\n",
       "    </tr>\n",
       "  </tbody>\n",
       "</table>\n",
       "</div>"
      ],
      "text/plain": [
       "     Date     Day   Lane    Date_Time     Time  Minimum   Mean  Maximum  \\\n",
       "0  3/5/23  Sunday  Lane1  3/5/23 0:00  0:00:00    30.37  30.37    30.37   \n",
       "1  3/5/23  Sunday  Lane1  3/5/23 0:05  0:05:00    30.40  30.40    30.40   \n",
       "2  3/5/23  Sunday  Lane1  3/5/23 0:10  0:10:00    30.45  30.45    30.45   \n",
       "3  3/5/23  Sunday  Lane1  3/5/23 0:15  0:15:00    30.52  30.52    30.52   \n",
       "4  3/5/23  Sunday  Lane1  3/5/23 0:20  0:20:00    30.40  30.40    30.40   \n",
       "\n",
       "   Lane_Pts_num  Oberserved_percent  \n",
       "0           318                38.7  \n",
       "1           318                39.3  \n",
       "2           317                39.1  \n",
       "3           317                38.8  \n",
       "4           318                39.3  "
      ]
     },
     "execution_count": 41,
     "metadata": {},
     "output_type": "execute_result"
    }
   ],
   "source": [
    "#route77\n",
    "\n",
    "\n",
    "route77_df = pd.read_csv(\"s3://sagemaker-us-east-1-938981654669/GoldenDrive/Data/Route_77.csv\")\n",
    "route77_df = pd.DataFrame(route77_df)\n",
    "route77_df.info()\n",
    "route77_df.head(5)"
   ]
  },
  {
   "cell_type": "code",
   "execution_count": 42,
   "id": "1605678d-f3aa-4e69-90f9-3aaca950abce",
   "metadata": {
    "tags": []
   },
   "outputs": [
    {
     "name": "stdout",
     "output_type": "stream",
     "text": [
      "<class 'pandas.core.frame.DataFrame'>\n",
      "RangeIndex: 10080 entries, 0 to 10079\n",
      "Data columns (total 10 columns):\n",
      " #   Column              Non-Null Count  Dtype  \n",
      "---  ------              --------------  -----  \n",
      " 0   Date                10080 non-null  object \n",
      " 1   Day                 10080 non-null  object \n",
      " 2   Lane                10080 non-null  object \n",
      " 3   Date_Time           10080 non-null  object \n",
      " 4   Time                10080 non-null  object \n",
      " 5   Minimum             10080 non-null  float64\n",
      " 6   Mean                10080 non-null  float64\n",
      " 7   Maximum             10080 non-null  float64\n",
      " 8   Lane_Pts_num        10080 non-null  int64  \n",
      " 9   Oberserved_percent  10080 non-null  float64\n",
      "dtypes: float64(4), int64(1), object(5)\n",
      "memory usage: 787.6+ KB\n"
     ]
    }
   ],
   "source": [
    "route77_df.info()"
   ]
  },
  {
   "cell_type": "code",
   "execution_count": 43,
   "id": "bd08dec5-7f54-40d0-98eb-0d5b31ba3ff9",
   "metadata": {
    "tags": []
   },
   "outputs": [
    {
     "data": {
      "text/html": [
       "<div>\n",
       "<style scoped>\n",
       "    .dataframe tbody tr th:only-of-type {\n",
       "        vertical-align: middle;\n",
       "    }\n",
       "\n",
       "    .dataframe tbody tr th {\n",
       "        vertical-align: top;\n",
       "    }\n",
       "\n",
       "    .dataframe thead th {\n",
       "        text-align: right;\n",
       "    }\n",
       "</style>\n",
       "<table border=\"1\" class=\"dataframe\">\n",
       "  <thead>\n",
       "    <tr style=\"text-align: right;\">\n",
       "      <th></th>\n",
       "      <th>Date</th>\n",
       "      <th>Day</th>\n",
       "      <th>Lane</th>\n",
       "      <th>Date_Time</th>\n",
       "      <th>Time</th>\n",
       "      <th>Minimum</th>\n",
       "      <th>Mean</th>\n",
       "      <th>Maximum</th>\n",
       "      <th>Lane_Pts_num</th>\n",
       "      <th>Oberserved_percent</th>\n",
       "      <th>dt</th>\n",
       "      <th>time_s</th>\n",
       "    </tr>\n",
       "  </thead>\n",
       "  <tbody>\n",
       "    <tr>\n",
       "      <th>0</th>\n",
       "      <td>3/5/23</td>\n",
       "      <td>Sunday</td>\n",
       "      <td>Lane1</td>\n",
       "      <td>2023-03-05 00:00:00</td>\n",
       "      <td>0:00:00</td>\n",
       "      <td>30.37</td>\n",
       "      <td>30.37</td>\n",
       "      <td>30.37</td>\n",
       "      <td>318</td>\n",
       "      <td>38.7</td>\n",
       "      <td>2023-03-05</td>\n",
       "      <td>00:00:00</td>\n",
       "    </tr>\n",
       "    <tr>\n",
       "      <th>1</th>\n",
       "      <td>3/5/23</td>\n",
       "      <td>Sunday</td>\n",
       "      <td>Lane1</td>\n",
       "      <td>2023-03-05 00:05:00</td>\n",
       "      <td>0:05:00</td>\n",
       "      <td>30.40</td>\n",
       "      <td>30.40</td>\n",
       "      <td>30.40</td>\n",
       "      <td>318</td>\n",
       "      <td>39.3</td>\n",
       "      <td>2023-03-05</td>\n",
       "      <td>00:05:00</td>\n",
       "    </tr>\n",
       "    <tr>\n",
       "      <th>2</th>\n",
       "      <td>3/5/23</td>\n",
       "      <td>Sunday</td>\n",
       "      <td>Lane1</td>\n",
       "      <td>2023-03-05 00:10:00</td>\n",
       "      <td>0:10:00</td>\n",
       "      <td>30.45</td>\n",
       "      <td>30.45</td>\n",
       "      <td>30.45</td>\n",
       "      <td>317</td>\n",
       "      <td>39.1</td>\n",
       "      <td>2023-03-05</td>\n",
       "      <td>00:10:00</td>\n",
       "    </tr>\n",
       "    <tr>\n",
       "      <th>3</th>\n",
       "      <td>3/5/23</td>\n",
       "      <td>Sunday</td>\n",
       "      <td>Lane1</td>\n",
       "      <td>2023-03-05 00:15:00</td>\n",
       "      <td>0:15:00</td>\n",
       "      <td>30.52</td>\n",
       "      <td>30.52</td>\n",
       "      <td>30.52</td>\n",
       "      <td>317</td>\n",
       "      <td>38.8</td>\n",
       "      <td>2023-03-05</td>\n",
       "      <td>00:15:00</td>\n",
       "    </tr>\n",
       "    <tr>\n",
       "      <th>4</th>\n",
       "      <td>3/5/23</td>\n",
       "      <td>Sunday</td>\n",
       "      <td>Lane1</td>\n",
       "      <td>2023-03-05 00:20:00</td>\n",
       "      <td>0:20:00</td>\n",
       "      <td>30.40</td>\n",
       "      <td>30.40</td>\n",
       "      <td>30.40</td>\n",
       "      <td>318</td>\n",
       "      <td>39.3</td>\n",
       "      <td>2023-03-05</td>\n",
       "      <td>00:20:00</td>\n",
       "    </tr>\n",
       "    <tr>\n",
       "      <th>...</th>\n",
       "      <td>...</td>\n",
       "      <td>...</td>\n",
       "      <td>...</td>\n",
       "      <td>...</td>\n",
       "      <td>...</td>\n",
       "      <td>...</td>\n",
       "      <td>...</td>\n",
       "      <td>...</td>\n",
       "      <td>...</td>\n",
       "      <td>...</td>\n",
       "      <td>...</td>\n",
       "      <td>...</td>\n",
       "    </tr>\n",
       "    <tr>\n",
       "      <th>10075</th>\n",
       "      <td>3/11/23</td>\n",
       "      <td>Saturday</td>\n",
       "      <td>HOV</td>\n",
       "      <td>2023-03-11 23:35:00</td>\n",
       "      <td>23:35:00</td>\n",
       "      <td>31.30</td>\n",
       "      <td>31.30</td>\n",
       "      <td>31.30</td>\n",
       "      <td>316</td>\n",
       "      <td>5.1</td>\n",
       "      <td>2023-03-11</td>\n",
       "      <td>23:35:00</td>\n",
       "    </tr>\n",
       "    <tr>\n",
       "      <th>10076</th>\n",
       "      <td>3/11/23</td>\n",
       "      <td>Saturday</td>\n",
       "      <td>HOV</td>\n",
       "      <td>2023-03-11 23:40:00</td>\n",
       "      <td>23:40:00</td>\n",
       "      <td>31.25</td>\n",
       "      <td>31.25</td>\n",
       "      <td>31.25</td>\n",
       "      <td>317</td>\n",
       "      <td>5.0</td>\n",
       "      <td>2023-03-11</td>\n",
       "      <td>23:40:00</td>\n",
       "    </tr>\n",
       "    <tr>\n",
       "      <th>10077</th>\n",
       "      <td>3/11/23</td>\n",
       "      <td>Saturday</td>\n",
       "      <td>HOV</td>\n",
       "      <td>2023-03-11 23:45:00</td>\n",
       "      <td>23:45:00</td>\n",
       "      <td>31.23</td>\n",
       "      <td>31.23</td>\n",
       "      <td>31.23</td>\n",
       "      <td>316</td>\n",
       "      <td>5.1</td>\n",
       "      <td>2023-03-11</td>\n",
       "      <td>23:45:00</td>\n",
       "    </tr>\n",
       "    <tr>\n",
       "      <th>10078</th>\n",
       "      <td>3/11/23</td>\n",
       "      <td>Saturday</td>\n",
       "      <td>HOV</td>\n",
       "      <td>2023-03-11 23:50:00</td>\n",
       "      <td>23:50:00</td>\n",
       "      <td>31.27</td>\n",
       "      <td>31.27</td>\n",
       "      <td>31.27</td>\n",
       "      <td>317</td>\n",
       "      <td>5.0</td>\n",
       "      <td>2023-03-11</td>\n",
       "      <td>23:50:00</td>\n",
       "    </tr>\n",
       "    <tr>\n",
       "      <th>10079</th>\n",
       "      <td>3/11/23</td>\n",
       "      <td>Saturday</td>\n",
       "      <td>HOV</td>\n",
       "      <td>2023-03-11 23:55:00</td>\n",
       "      <td>23:55:00</td>\n",
       "      <td>31.32</td>\n",
       "      <td>31.32</td>\n",
       "      <td>31.32</td>\n",
       "      <td>317</td>\n",
       "      <td>5.0</td>\n",
       "      <td>2023-03-11</td>\n",
       "      <td>23:55:00</td>\n",
       "    </tr>\n",
       "  </tbody>\n",
       "</table>\n",
       "<p>10080 rows × 12 columns</p>\n",
       "</div>"
      ],
      "text/plain": [
       "          Date       Day   Lane           Date_Time      Time  Minimum   Mean  \\\n",
       "0       3/5/23    Sunday  Lane1 2023-03-05 00:00:00   0:00:00    30.37  30.37   \n",
       "1       3/5/23    Sunday  Lane1 2023-03-05 00:05:00   0:05:00    30.40  30.40   \n",
       "2       3/5/23    Sunday  Lane1 2023-03-05 00:10:00   0:10:00    30.45  30.45   \n",
       "3       3/5/23    Sunday  Lane1 2023-03-05 00:15:00   0:15:00    30.52  30.52   \n",
       "4       3/5/23    Sunday  Lane1 2023-03-05 00:20:00   0:20:00    30.40  30.40   \n",
       "...        ...       ...    ...                 ...       ...      ...    ...   \n",
       "10075  3/11/23  Saturday    HOV 2023-03-11 23:35:00  23:35:00    31.30  31.30   \n",
       "10076  3/11/23  Saturday    HOV 2023-03-11 23:40:00  23:40:00    31.25  31.25   \n",
       "10077  3/11/23  Saturday    HOV 2023-03-11 23:45:00  23:45:00    31.23  31.23   \n",
       "10078  3/11/23  Saturday    HOV 2023-03-11 23:50:00  23:50:00    31.27  31.27   \n",
       "10079  3/11/23  Saturday    HOV 2023-03-11 23:55:00  23:55:00    31.32  31.32   \n",
       "\n",
       "       Maximum  Lane_Pts_num  Oberserved_percent          dt    time_s  \n",
       "0        30.37           318                38.7  2023-03-05  00:00:00  \n",
       "1        30.40           318                39.3  2023-03-05  00:05:00  \n",
       "2        30.45           317                39.1  2023-03-05  00:10:00  \n",
       "3        30.52           317                38.8  2023-03-05  00:15:00  \n",
       "4        30.40           318                39.3  2023-03-05  00:20:00  \n",
       "...        ...           ...                 ...         ...       ...  \n",
       "10075    31.30           316                 5.1  2023-03-11  23:35:00  \n",
       "10076    31.25           317                 5.0  2023-03-11  23:40:00  \n",
       "10077    31.23           316                 5.1  2023-03-11  23:45:00  \n",
       "10078    31.27           317                 5.0  2023-03-11  23:50:00  \n",
       "10079    31.32           317                 5.0  2023-03-11  23:55:00  \n",
       "\n",
       "[10080 rows x 12 columns]"
      ]
     },
     "execution_count": 43,
     "metadata": {},
     "output_type": "execute_result"
    }
   ],
   "source": [
    "# Add the needed columns for better visualization, and transform the data type.\n",
    "route77_df['Date_Time'] = pd.to_datetime(route77_df['Date_Time'])\n",
    "route77_df['dt'] = pd.to_datetime(route77_df['Date_Time'])\n",
    "route77_df['dt'] = route77_df['dt'].dt.date\n",
    "route77_df['time_s']  = route77_df['Date_Time'].dt.time\n",
    "route77_df"
   ]
  },
  {
   "cell_type": "code",
   "execution_count": 44,
   "id": "d71db589-6481-414b-b172-1a859177adb2",
   "metadata": {
    "tags": []
   },
   "outputs": [
    {
     "data": {
      "image/png": "[encoded data removed]",
      "text/plain": [
       "<Figure size 1031.25x600 with 1 Axes>"
      ]
     },
     "metadata": {},
     "output_type": "display_data"
    }
   ],
   "source": [
    "import matplotlib.ticker as ticker \n",
    "\n",
    "sns.set_style(\"whitegrid\")\n",
    "g = sns.catplot(x=\"time_s\", y=\"Mean\", hue=\"Day\", data=route77_df, kind=\"point\", height=6, aspect=1.5)\n",
    "\n",
    "g.set_xlabels(\"Time of Day\")\n",
    "g.set_ylabels(\"Average Speed\")\n",
    "plt.xticks(rotation=45)\n",
    "g.fig.suptitle(\"Average Speed by Time of Day for Each Day of the Week\")\n",
    "\n",
    "ax = g.facet_axis(0,0)   \n",
    "every_nth = 12\n",
    "for i, label in enumerate(ax.get_xticklabels()):\n",
    "    if i % every_nth != 0:\n",
    "        label.set_visible(False)    \n",
    "    \n",
    "plt.show()"
   ]
  },
  {
   "cell_type": "code",
   "execution_count": 45,
   "id": "b40c0ac8-5644-4b61-aec9-df8080fa6e15",
   "metadata": {
    "tags": []
   },
   "outputs": [
    {
     "data": {
      "image/png": "[encoded data removed]",
      "text/plain": [
       "<Figure size 500x500 with 2 Axes>"
      ]
     },
     "metadata": {},
     "output_type": "display_data"
    }
   ],
   "source": [
    "# assign correlation function to new variable\n",
    "corr = route77_df.corr()\n",
    "matrix = np.triu(corr) # for triangular matrix\n",
    "plt.figure(figsize=(5,5))\n",
    "# parse corr variable intro triangular matrix\n",
    "sns.heatmap(route77_df.corr(method='pearson'), \n",
    "            annot=True, linewidths=.5, \n",
    "            cmap=\"coolwarm\", mask=matrix,\n",
    "            square = True, \n",
    "            cbar_kws={'label': 'Correlation Index'}, \n",
    "            vmin=-1, vmax=1)\n",
    "plt.show()"
   ]
  },
  {
   "cell_type": "code",
   "execution_count": 46,
   "id": "cb51660d-a485-4ca2-b6eb-8ced00207520",
   "metadata": {
    "tags": []
   },
   "outputs": [
    {
     "data": {
      "text/html": [
       "<div>\n",
       "<style scoped>\n",
       "    .dataframe tbody tr th:only-of-type {\n",
       "        vertical-align: middle;\n",
       "    }\n",
       "\n",
       "    .dataframe tbody tr th {\n",
       "        vertical-align: top;\n",
       "    }\n",
       "\n",
       "    .dataframe thead th {\n",
       "        text-align: right;\n",
       "    }\n",
       "</style>\n",
       "<table border=\"1\" class=\"dataframe\">\n",
       "  <thead>\n",
       "    <tr style=\"text-align: right;\">\n",
       "      <th></th>\n",
       "      <th>dt</th>\n",
       "      <th>Day</th>\n",
       "      <th>Lane</th>\n",
       "      <th>Mean</th>\n",
       "      <th>time_s</th>\n",
       "    </tr>\n",
       "  </thead>\n",
       "  <tbody>\n",
       "    <tr>\n",
       "      <th>0</th>\n",
       "      <td>2023-03-05</td>\n",
       "      <td>Sunday</td>\n",
       "      <td>Lane1</td>\n",
       "      <td>30.37</td>\n",
       "      <td>00:00:00</td>\n",
       "    </tr>\n",
       "    <tr>\n",
       "      <th>1</th>\n",
       "      <td>2023-03-05</td>\n",
       "      <td>Sunday</td>\n",
       "      <td>Lane1</td>\n",
       "      <td>30.40</td>\n",
       "      <td>00:05:00</td>\n",
       "    </tr>\n",
       "    <tr>\n",
       "      <th>2</th>\n",
       "      <td>2023-03-05</td>\n",
       "      <td>Sunday</td>\n",
       "      <td>Lane1</td>\n",
       "      <td>30.45</td>\n",
       "      <td>00:10:00</td>\n",
       "    </tr>\n",
       "    <tr>\n",
       "      <th>3</th>\n",
       "      <td>2023-03-05</td>\n",
       "      <td>Sunday</td>\n",
       "      <td>Lane1</td>\n",
       "      <td>30.52</td>\n",
       "      <td>00:15:00</td>\n",
       "    </tr>\n",
       "    <tr>\n",
       "      <th>4</th>\n",
       "      <td>2023-03-05</td>\n",
       "      <td>Sunday</td>\n",
       "      <td>Lane1</td>\n",
       "      <td>30.40</td>\n",
       "      <td>00:20:00</td>\n",
       "    </tr>\n",
       "  </tbody>\n",
       "</table>\n",
       "</div>"
      ],
      "text/plain": [
       "           dt     Day   Lane   Mean    time_s\n",
       "0  2023-03-05  Sunday  Lane1  30.37  00:00:00\n",
       "1  2023-03-05  Sunday  Lane1  30.40  00:05:00\n",
       "2  2023-03-05  Sunday  Lane1  30.45  00:10:00\n",
       "3  2023-03-05  Sunday  Lane1  30.52  00:15:00\n",
       "4  2023-03-05  Sunday  Lane1  30.40  00:20:00"
      ]
     },
     "execution_count": 46,
     "metadata": {},
     "output_type": "execute_result"
    }
   ],
   "source": [
    "# create a new table to store the needed data\n",
    "route = pd.DataFrame([route77_df.dt, route77_df.Day,route77_df.Lane,route77_df.Mean,route77_df.time_s]).transpose()\n",
    "route.head(5)"
   ]
  },
  {
   "cell_type": "code",
   "execution_count": 47,
   "id": "79d3ec7e-488d-4fcf-9a95-497ac3ca531d",
   "metadata": {
    "tags": []
   },
   "outputs": [
    {
     "data": {
      "text/plain": [
       "Index(['Date', 'Day', 'Lane', 'Date_Time', 'Time', 'Minimum', 'Mean',\n",
       "       'Maximum', 'Lane_Pts_num', 'Oberserved_percent', 'dt', 'time_s'],\n",
       "      dtype='object')"
      ]
     },
     "execution_count": 47,
     "metadata": {},
     "output_type": "execute_result"
    }
   ],
   "source": [
    "route77_df.columns"
   ]
  },
  {
   "cell_type": "code",
   "execution_count": 48,
   "id": "75f9f667-fb6c-49c1-aa6d-50c608039761",
   "metadata": {
    "tags": []
   },
   "outputs": [
    {
     "name": "stdout",
     "output_type": "stream",
     "text": [
      "<class 'pandas.core.frame.DataFrame'>\n",
      "RangeIndex: 10080 entries, 0 to 10079\n",
      "Data columns (total 5 columns):\n",
      " #   Column  Non-Null Count  Dtype         \n",
      "---  ------  --------------  -----         \n",
      " 0   dt      10080 non-null  datetime64[ns]\n",
      " 1   Day     10080 non-null  object        \n",
      " 2   Lane    10080 non-null  object        \n",
      " 3   Mean    10080 non-null  object        \n",
      " 4   time_s  10080 non-null  object        \n",
      "dtypes: datetime64[ns](1), object(4)\n",
      "memory usage: 393.9+ KB\n"
     ]
    }
   ],
   "source": [
    "route['dt'] = pd.to_datetime(route['dt'])\n",
    "# route['time_s'] = pd.to_datetime(route['time_s'])\n",
    "route.info()"
   ]
  },
  {
   "cell_type": "code",
   "execution_count": 49,
   "id": "ced15294-0e85-4f00-b385-769634b23554",
   "metadata": {
    "tags": []
   },
   "outputs": [
    {
     "data": {
      "image/png": "[encoded data removed]",
      "text/plain": [
       "<Figure size 1000x500 with 1 Axes>"
      ]
     },
     "metadata": {},
     "output_type": "display_data"
    }
   ],
   "source": [
    "plt.figure(figsize=(10,5))\n",
    "sns.countplot(data=route, x=\"Day\", hue=\"Lane\")\n",
    "plt.show()\n"
   ]
  },
  {
   "cell_type": "code",
   "execution_count": 50,
   "id": "a56fbf88-519a-42b2-8d29-ea62834a43a2",
   "metadata": {
    "tags": []
   },
   "outputs": [
    {
     "data": {
      "text/html": [
       "<div>\n",
       "<style scoped>\n",
       "    .dataframe tbody tr th:only-of-type {\n",
       "        vertical-align: middle;\n",
       "    }\n",
       "\n",
       "    .dataframe tbody tr th {\n",
       "        vertical-align: top;\n",
       "    }\n",
       "\n",
       "    .dataframe thead th {\n",
       "        text-align: right;\n",
       "    }\n",
       "</style>\n",
       "<table border=\"1\" class=\"dataframe\">\n",
       "  <thead>\n",
       "    <tr style=\"text-align: right;\">\n",
       "      <th></th>\n",
       "      <th>dt</th>\n",
       "      <th>Day</th>\n",
       "      <th>Lane</th>\n",
       "      <th>Mean</th>\n",
       "      <th>time_s</th>\n",
       "    </tr>\n",
       "  </thead>\n",
       "  <tbody>\n",
       "    <tr>\n",
       "      <th>1152</th>\n",
       "      <td>2023-03-05</td>\n",
       "      <td>Sunday</td>\n",
       "      <td>HOV</td>\n",
       "      <td>31.95</td>\n",
       "      <td>00:00:00</td>\n",
       "    </tr>\n",
       "    <tr>\n",
       "      <th>1153</th>\n",
       "      <td>2023-03-05</td>\n",
       "      <td>Sunday</td>\n",
       "      <td>HOV</td>\n",
       "      <td>31.97</td>\n",
       "      <td>00:05:00</td>\n",
       "    </tr>\n",
       "    <tr>\n",
       "      <th>1154</th>\n",
       "      <td>2023-03-05</td>\n",
       "      <td>Sunday</td>\n",
       "      <td>HOV</td>\n",
       "      <td>32.00</td>\n",
       "      <td>00:10:00</td>\n",
       "    </tr>\n",
       "    <tr>\n",
       "      <th>1155</th>\n",
       "      <td>2023-03-05</td>\n",
       "      <td>Sunday</td>\n",
       "      <td>HOV</td>\n",
       "      <td>32.03</td>\n",
       "      <td>00:15:00</td>\n",
       "    </tr>\n",
       "    <tr>\n",
       "      <th>1156</th>\n",
       "      <td>2023-03-05</td>\n",
       "      <td>Sunday</td>\n",
       "      <td>HOV</td>\n",
       "      <td>31.93</td>\n",
       "      <td>00:20:00</td>\n",
       "    </tr>\n",
       "    <tr>\n",
       "      <th>...</th>\n",
       "      <td>...</td>\n",
       "      <td>...</td>\n",
       "      <td>...</td>\n",
       "      <td>...</td>\n",
       "      <td>...</td>\n",
       "    </tr>\n",
       "    <tr>\n",
       "      <th>10075</th>\n",
       "      <td>2023-03-11</td>\n",
       "      <td>Saturday</td>\n",
       "      <td>HOV</td>\n",
       "      <td>31.30</td>\n",
       "      <td>23:35:00</td>\n",
       "    </tr>\n",
       "    <tr>\n",
       "      <th>10076</th>\n",
       "      <td>2023-03-11</td>\n",
       "      <td>Saturday</td>\n",
       "      <td>HOV</td>\n",
       "      <td>31.25</td>\n",
       "      <td>23:40:00</td>\n",
       "    </tr>\n",
       "    <tr>\n",
       "      <th>10077</th>\n",
       "      <td>2023-03-11</td>\n",
       "      <td>Saturday</td>\n",
       "      <td>HOV</td>\n",
       "      <td>31.23</td>\n",
       "      <td>23:45:00</td>\n",
       "    </tr>\n",
       "    <tr>\n",
       "      <th>10078</th>\n",
       "      <td>2023-03-11</td>\n",
       "      <td>Saturday</td>\n",
       "      <td>HOV</td>\n",
       "      <td>31.27</td>\n",
       "      <td>23:50:00</td>\n",
       "    </tr>\n",
       "    <tr>\n",
       "      <th>10079</th>\n",
       "      <td>2023-03-11</td>\n",
       "      <td>Saturday</td>\n",
       "      <td>HOV</td>\n",
       "      <td>31.32</td>\n",
       "      <td>23:55:00</td>\n",
       "    </tr>\n",
       "  </tbody>\n",
       "</table>\n",
       "<p>2016 rows × 5 columns</p>\n",
       "</div>"
      ],
      "text/plain": [
       "              dt       Day Lane   Mean    time_s\n",
       "1152  2023-03-05    Sunday  HOV  31.95  00:00:00\n",
       "1153  2023-03-05    Sunday  HOV  31.97  00:05:00\n",
       "1154  2023-03-05    Sunday  HOV  32.00  00:10:00\n",
       "1155  2023-03-05    Sunday  HOV  32.03  00:15:00\n",
       "1156  2023-03-05    Sunday  HOV  31.93  00:20:00\n",
       "...          ...       ...  ...    ...       ...\n",
       "10075 2023-03-11  Saturday  HOV  31.30  23:35:00\n",
       "10076 2023-03-11  Saturday  HOV  31.25  23:40:00\n",
       "10077 2023-03-11  Saturday  HOV  31.23  23:45:00\n",
       "10078 2023-03-11  Saturday  HOV  31.27  23:50:00\n",
       "10079 2023-03-11  Saturday  HOV  31.32  23:55:00\n",
       "\n",
       "[2016 rows x 5 columns]"
      ]
     },
     "execution_count": 50,
     "metadata": {},
     "output_type": "execute_result"
    }
   ],
   "source": [
    "#split hov\n",
    "\n",
    "\n",
    "hov_df = route[route['Lane'] == 'HOV']\n",
    "hov_df"
   ]
  },
  {
   "cell_type": "code",
   "execution_count": 51,
   "id": "72d00d82-1cef-4ce1-b2ed-5edb5539e7a7",
   "metadata": {
    "tags": []
   },
   "outputs": [
    {
     "data": {
      "text/html": [
       "<div>\n",
       "<style scoped>\n",
       "    .dataframe tbody tr th:only-of-type {\n",
       "        vertical-align: middle;\n",
       "    }\n",
       "\n",
       "    .dataframe tbody tr th {\n",
       "        vertical-align: top;\n",
       "    }\n",
       "\n",
       "    .dataframe thead th {\n",
       "        text-align: right;\n",
       "    }\n",
       "</style>\n",
       "<table border=\"1\" class=\"dataframe\">\n",
       "  <thead>\n",
       "    <tr style=\"text-align: right;\">\n",
       "      <th></th>\n",
       "      <th>dt</th>\n",
       "      <th>Day</th>\n",
       "      <th>Lane</th>\n",
       "      <th>Mean</th>\n",
       "      <th>time_s</th>\n",
       "    </tr>\n",
       "  </thead>\n",
       "  <tbody>\n",
       "    <tr>\n",
       "      <th>0</th>\n",
       "      <td>2023-03-05</td>\n",
       "      <td>Sunday</td>\n",
       "      <td>Lane1</td>\n",
       "      <td>30.37</td>\n",
       "      <td>00:00:00</td>\n",
       "    </tr>\n",
       "    <tr>\n",
       "      <th>1</th>\n",
       "      <td>2023-03-05</td>\n",
       "      <td>Sunday</td>\n",
       "      <td>Lane1</td>\n",
       "      <td>30.40</td>\n",
       "      <td>00:05:00</td>\n",
       "    </tr>\n",
       "    <tr>\n",
       "      <th>2</th>\n",
       "      <td>2023-03-05</td>\n",
       "      <td>Sunday</td>\n",
       "      <td>Lane1</td>\n",
       "      <td>30.45</td>\n",
       "      <td>00:10:00</td>\n",
       "    </tr>\n",
       "    <tr>\n",
       "      <th>3</th>\n",
       "      <td>2023-03-05</td>\n",
       "      <td>Sunday</td>\n",
       "      <td>Lane1</td>\n",
       "      <td>30.52</td>\n",
       "      <td>00:15:00</td>\n",
       "    </tr>\n",
       "    <tr>\n",
       "      <th>4</th>\n",
       "      <td>2023-03-05</td>\n",
       "      <td>Sunday</td>\n",
       "      <td>Lane1</td>\n",
       "      <td>30.40</td>\n",
       "      <td>00:20:00</td>\n",
       "    </tr>\n",
       "    <tr>\n",
       "      <th>...</th>\n",
       "      <td>...</td>\n",
       "      <td>...</td>\n",
       "      <td>...</td>\n",
       "      <td>...</td>\n",
       "      <td>...</td>\n",
       "    </tr>\n",
       "    <tr>\n",
       "      <th>9787</th>\n",
       "      <td>2023-03-11</td>\n",
       "      <td>Saturday</td>\n",
       "      <td>Lane4</td>\n",
       "      <td>34.02</td>\n",
       "      <td>23:35:00</td>\n",
       "    </tr>\n",
       "    <tr>\n",
       "      <th>9788</th>\n",
       "      <td>2023-03-11</td>\n",
       "      <td>Saturday</td>\n",
       "      <td>Lane4</td>\n",
       "      <td>34.05</td>\n",
       "      <td>23:40:00</td>\n",
       "    </tr>\n",
       "    <tr>\n",
       "      <th>9789</th>\n",
       "      <td>2023-03-11</td>\n",
       "      <td>Saturday</td>\n",
       "      <td>Lane4</td>\n",
       "      <td>34.05</td>\n",
       "      <td>23:45:00</td>\n",
       "    </tr>\n",
       "    <tr>\n",
       "      <th>9790</th>\n",
       "      <td>2023-03-11</td>\n",
       "      <td>Saturday</td>\n",
       "      <td>Lane4</td>\n",
       "      <td>34.10</td>\n",
       "      <td>23:50:00</td>\n",
       "    </tr>\n",
       "    <tr>\n",
       "      <th>9791</th>\n",
       "      <td>2023-03-11</td>\n",
       "      <td>Saturday</td>\n",
       "      <td>Lane4</td>\n",
       "      <td>34.28</td>\n",
       "      <td>23:55:00</td>\n",
       "    </tr>\n",
       "  </tbody>\n",
       "</table>\n",
       "<p>8064 rows × 5 columns</p>\n",
       "</div>"
      ],
      "text/plain": [
       "             dt       Day   Lane   Mean    time_s\n",
       "0    2023-03-05    Sunday  Lane1  30.37  00:00:00\n",
       "1    2023-03-05    Sunday  Lane1  30.40  00:05:00\n",
       "2    2023-03-05    Sunday  Lane1  30.45  00:10:00\n",
       "3    2023-03-05    Sunday  Lane1  30.52  00:15:00\n",
       "4    2023-03-05    Sunday  Lane1  30.40  00:20:00\n",
       "...         ...       ...    ...    ...       ...\n",
       "9787 2023-03-11  Saturday  Lane4  34.02  23:35:00\n",
       "9788 2023-03-11  Saturday  Lane4  34.05  23:40:00\n",
       "9789 2023-03-11  Saturday  Lane4  34.05  23:45:00\n",
       "9790 2023-03-11  Saturday  Lane4  34.10  23:50:00\n",
       "9791 2023-03-11  Saturday  Lane4  34.28  23:55:00\n",
       "\n",
       "[8064 rows x 5 columns]"
      ]
     },
     "execution_count": 51,
     "metadata": {},
     "output_type": "execute_result"
    }
   ],
   "source": [
    "lan_df = route[route['Lane'] != 'HOV']\n",
    "lan_df"
   ]
  },
  {
   "cell_type": "code",
   "execution_count": 52,
   "id": "c063505a-c0ba-4054-a9ac-76d43618fcee",
   "metadata": {
    "tags": []
   },
   "outputs": [
    {
     "data": {
      "text/html": [
       "<div>\n",
       "<style scoped>\n",
       "    .dataframe tbody tr th:only-of-type {\n",
       "        vertical-align: middle;\n",
       "    }\n",
       "\n",
       "    .dataframe tbody tr th {\n",
       "        vertical-align: top;\n",
       "    }\n",
       "\n",
       "    .dataframe thead th {\n",
       "        text-align: right;\n",
       "    }\n",
       "</style>\n",
       "<table border=\"1\" class=\"dataframe\">\n",
       "  <thead>\n",
       "    <tr style=\"text-align: right;\">\n",
       "      <th></th>\n",
       "      <th>dt_x</th>\n",
       "      <th>Day</th>\n",
       "      <th>Lane_x</th>\n",
       "      <th>Mean_x</th>\n",
       "      <th>time_s</th>\n",
       "      <th>dt_y</th>\n",
       "      <th>Lane_y</th>\n",
       "      <th>Mean_y</th>\n",
       "    </tr>\n",
       "  </thead>\n",
       "  <tbody>\n",
       "    <tr>\n",
       "      <th>0</th>\n",
       "      <td>2023-03-05</td>\n",
       "      <td>Sunday</td>\n",
       "      <td>HOV</td>\n",
       "      <td>31.95</td>\n",
       "      <td>00:00:00</td>\n",
       "      <td>2023-03-05</td>\n",
       "      <td>Lane1</td>\n",
       "      <td>30.37</td>\n",
       "    </tr>\n",
       "    <tr>\n",
       "      <th>1</th>\n",
       "      <td>2023-03-05</td>\n",
       "      <td>Sunday</td>\n",
       "      <td>HOV</td>\n",
       "      <td>31.95</td>\n",
       "      <td>00:00:00</td>\n",
       "      <td>2023-03-05</td>\n",
       "      <td>Lane2</td>\n",
       "      <td>31.43</td>\n",
       "    </tr>\n",
       "    <tr>\n",
       "      <th>2</th>\n",
       "      <td>2023-03-05</td>\n",
       "      <td>Sunday</td>\n",
       "      <td>HOV</td>\n",
       "      <td>31.95</td>\n",
       "      <td>00:00:00</td>\n",
       "      <td>2023-03-05</td>\n",
       "      <td>Lane3</td>\n",
       "      <td>34.08</td>\n",
       "    </tr>\n",
       "    <tr>\n",
       "      <th>3</th>\n",
       "      <td>2023-03-05</td>\n",
       "      <td>Sunday</td>\n",
       "      <td>HOV</td>\n",
       "      <td>31.95</td>\n",
       "      <td>00:00:00</td>\n",
       "      <td>2023-03-05</td>\n",
       "      <td>Lane4</td>\n",
       "      <td>34.85</td>\n",
       "    </tr>\n",
       "    <tr>\n",
       "      <th>4</th>\n",
       "      <td>2023-03-05</td>\n",
       "      <td>Sunday</td>\n",
       "      <td>HOV</td>\n",
       "      <td>31.97</td>\n",
       "      <td>00:05:00</td>\n",
       "      <td>2023-03-05</td>\n",
       "      <td>Lane1</td>\n",
       "      <td>30.40</td>\n",
       "    </tr>\n",
       "    <tr>\n",
       "      <th>...</th>\n",
       "      <td>...</td>\n",
       "      <td>...</td>\n",
       "      <td>...</td>\n",
       "      <td>...</td>\n",
       "      <td>...</td>\n",
       "      <td>...</td>\n",
       "      <td>...</td>\n",
       "      <td>...</td>\n",
       "    </tr>\n",
       "    <tr>\n",
       "      <th>8059</th>\n",
       "      <td>2023-03-11</td>\n",
       "      <td>Saturday</td>\n",
       "      <td>HOV</td>\n",
       "      <td>31.27</td>\n",
       "      <td>23:50:00</td>\n",
       "      <td>2023-03-11</td>\n",
       "      <td>Lane4</td>\n",
       "      <td>34.10</td>\n",
       "    </tr>\n",
       "    <tr>\n",
       "      <th>8060</th>\n",
       "      <td>2023-03-11</td>\n",
       "      <td>Saturday</td>\n",
       "      <td>HOV</td>\n",
       "      <td>31.32</td>\n",
       "      <td>23:55:00</td>\n",
       "      <td>2023-03-11</td>\n",
       "      <td>Lane1</td>\n",
       "      <td>29.60</td>\n",
       "    </tr>\n",
       "    <tr>\n",
       "      <th>8061</th>\n",
       "      <td>2023-03-11</td>\n",
       "      <td>Saturday</td>\n",
       "      <td>HOV</td>\n",
       "      <td>31.32</td>\n",
       "      <td>23:55:00</td>\n",
       "      <td>2023-03-11</td>\n",
       "      <td>Lane2</td>\n",
       "      <td>30.95</td>\n",
       "    </tr>\n",
       "    <tr>\n",
       "      <th>8062</th>\n",
       "      <td>2023-03-11</td>\n",
       "      <td>Saturday</td>\n",
       "      <td>HOV</td>\n",
       "      <td>31.32</td>\n",
       "      <td>23:55:00</td>\n",
       "      <td>2023-03-11</td>\n",
       "      <td>Lane3</td>\n",
       "      <td>32.57</td>\n",
       "    </tr>\n",
       "    <tr>\n",
       "      <th>8063</th>\n",
       "      <td>2023-03-11</td>\n",
       "      <td>Saturday</td>\n",
       "      <td>HOV</td>\n",
       "      <td>31.32</td>\n",
       "      <td>23:55:00</td>\n",
       "      <td>2023-03-11</td>\n",
       "      <td>Lane4</td>\n",
       "      <td>34.28</td>\n",
       "    </tr>\n",
       "  </tbody>\n",
       "</table>\n",
       "<p>8064 rows × 8 columns</p>\n",
       "</div>"
      ],
      "text/plain": [
       "           dt_x       Day Lane_x Mean_x    time_s       dt_y Lane_y Mean_y\n",
       "0    2023-03-05    Sunday    HOV  31.95  00:00:00 2023-03-05  Lane1  30.37\n",
       "1    2023-03-05    Sunday    HOV  31.95  00:00:00 2023-03-05  Lane2  31.43\n",
       "2    2023-03-05    Sunday    HOV  31.95  00:00:00 2023-03-05  Lane3  34.08\n",
       "3    2023-03-05    Sunday    HOV  31.95  00:00:00 2023-03-05  Lane4  34.85\n",
       "4    2023-03-05    Sunday    HOV  31.97  00:05:00 2023-03-05  Lane1  30.40\n",
       "...         ...       ...    ...    ...       ...        ...    ...    ...\n",
       "8059 2023-03-11  Saturday    HOV  31.27  23:50:00 2023-03-11  Lane4  34.10\n",
       "8060 2023-03-11  Saturday    HOV  31.32  23:55:00 2023-03-11  Lane1  29.60\n",
       "8061 2023-03-11  Saturday    HOV  31.32  23:55:00 2023-03-11  Lane2  30.95\n",
       "8062 2023-03-11  Saturday    HOV  31.32  23:55:00 2023-03-11  Lane3  32.57\n",
       "8063 2023-03-11  Saturday    HOV  31.32  23:55:00 2023-03-11  Lane4  34.28\n",
       "\n",
       "[8064 rows x 8 columns]"
      ]
     },
     "execution_count": 52,
     "metadata": {},
     "output_type": "execute_result"
    }
   ],
   "source": [
    "merged_df = pd.merge(hov_df, lan_df, on=[ 'Day','time_s'])\n",
    "merged_df"
   ]
  },
  {
   "cell_type": "code",
   "execution_count": 53,
   "id": "1a8e5939-3472-448f-b3b8-c294c461ac1f",
   "metadata": {
    "tags": []
   },
   "outputs": [
    {
     "name": "stdout",
     "output_type": "stream",
     "text": [
      "           dt_x Lane_x Mean_x       dt_y Mean_y  Lane_y_Lane1  Lane_y_Lane2  \\\n",
      "0    2023-03-05    HOV  31.95 2023-03-05  30.37             1             0   \n",
      "1    2023-03-05    HOV  31.95 2023-03-05  31.43             0             1   \n",
      "2    2023-03-05    HOV  31.95 2023-03-05  34.08             0             0   \n",
      "3    2023-03-05    HOV  31.95 2023-03-05  34.85             0             0   \n",
      "4    2023-03-05    HOV  31.97 2023-03-05  30.40             1             0   \n",
      "...         ...    ...    ...        ...    ...           ...           ...   \n",
      "8059 2023-03-11    HOV  31.27 2023-03-11  34.10             0             0   \n",
      "8060 2023-03-11    HOV  31.32 2023-03-11  29.60             1             0   \n",
      "8061 2023-03-11    HOV  31.32 2023-03-11  30.95             0             1   \n",
      "8062 2023-03-11    HOV  31.32 2023-03-11  32.57             0             0   \n",
      "8063 2023-03-11    HOV  31.32 2023-03-11  34.28             0             0   \n",
      "\n",
      "      Lane_y_Lane3  Lane_y_Lane4  Day_Friday  ...  time_s_23:10:00  \\\n",
      "0                0             0           0  ...                0   \n",
      "1                0             0           0  ...                0   \n",
      "2                1             0           0  ...                0   \n",
      "3                0             1           0  ...                0   \n",
      "4                0             0           0  ...                0   \n",
      "...            ...           ...         ...  ...              ...   \n",
      "8059             0             1           0  ...                0   \n",
      "8060             0             0           0  ...                0   \n",
      "8061             0             0           0  ...                0   \n",
      "8062             1             0           0  ...                0   \n",
      "8063             0             1           0  ...                0   \n",
      "\n",
      "      time_s_23:15:00  time_s_23:20:00  time_s_23:25:00  time_s_23:30:00  \\\n",
      "0                   0                0                0                0   \n",
      "1                   0                0                0                0   \n",
      "2                   0                0                0                0   \n",
      "3                   0                0                0                0   \n",
      "4                   0                0                0                0   \n",
      "...               ...              ...              ...              ...   \n",
      "8059                0                0                0                0   \n",
      "8060                0                0                0                0   \n",
      "8061                0                0                0                0   \n",
      "8062                0                0                0                0   \n",
      "8063                0                0                0                0   \n",
      "\n",
      "      time_s_23:35:00  time_s_23:40:00  time_s_23:45:00  time_s_23:50:00  \\\n",
      "0                   0                0                0                0   \n",
      "1                   0                0                0                0   \n",
      "2                   0                0                0                0   \n",
      "3                   0                0                0                0   \n",
      "4                   0                0                0                0   \n",
      "...               ...              ...              ...              ...   \n",
      "8059                0                0                0                1   \n",
      "8060                0                0                0                0   \n",
      "8061                0                0                0                0   \n",
      "8062                0                0                0                0   \n",
      "8063                0                0                0                0   \n",
      "\n",
      "      time_s_23:55:00  \n",
      "0                   0  \n",
      "1                   0  \n",
      "2                   0  \n",
      "3                   0  \n",
      "4                   0  \n",
      "...               ...  \n",
      "8059                0  \n",
      "8060                1  \n",
      "8061                1  \n",
      "8062                1  \n",
      "8063                1  \n",
      "\n",
      "[8064 rows x 304 columns]\n"
     ]
    }
   ],
   "source": [
    "dummies = pd.get_dummies(merged_df[['Lane_y', 'Day', 'time_s']])\n",
    "new_dum = pd.concat([merged_df, dummies], axis=1)\n",
    "\n",
    "# drop the original 'Lane' and 'Day_of_Week' columns\n",
    "new_dum.drop(['Lane_y', 'Day','time_s'], axis=1, inplace=True)\n",
    "\n",
    "# print the resulting dataframe\n",
    "print(new_dum)"
   ]
  },
  {
   "cell_type": "code",
   "execution_count": null,
   "id": "311b8b98-ff16-47bb-8cb2-87ae03533639",
   "metadata": {
    "tags": []
   },
   "outputs": [],
   "source": []
  },
  {
   "cell_type": "code",
   "execution_count": null,
   "id": "82eb16b2-aa76-420c-bf50-2dfee97a1f81",
   "metadata": {
    "tags": []
   },
   "outputs": [],
   "source": []
  },
  {
   "cell_type": "code",
   "execution_count": 85,
   "id": "a7d4a091-055c-4a66-b297-4df0f04cece5",
   "metadata": {
    "tags": []
   },
   "outputs": [],
   "source": [
    "#modeling\n",
    "\n"
   ]
  },
  {
   "cell_type": "code",
   "execution_count": 54,
   "id": "e08873d7-7e34-4ebe-94eb-0ca51224eaa1",
   "metadata": {
    "tags": []
   },
   "outputs": [
    {
     "name": "stdout",
     "output_type": "stream",
     "text": [
      "['Mean_y', 'Lane_y_Lane1', 'Lane_y_Lane2', 'Lane_y_Lane3', 'Lane_y_Lane4', 'Day_Friday', 'Day_Monday', 'Day_Saturday', 'Day_Sunday', 'Day_Thursday', 'Day_Tuesday', 'Day_Wednesday', 'time_s_00:00:00', 'time_s_00:05:00', 'time_s_00:10:00', 'time_s_00:15:00', 'time_s_00:20:00', 'time_s_00:25:00', 'time_s_00:30:00', 'time_s_00:35:00', 'time_s_00:40:00', 'time_s_00:45:00', 'time_s_00:50:00', 'time_s_00:55:00', 'time_s_01:00:00', 'time_s_01:05:00', 'time_s_01:10:00', 'time_s_01:15:00', 'time_s_01:20:00', 'time_s_01:25:00', 'time_s_01:30:00', 'time_s_01:35:00', 'time_s_01:40:00', 'time_s_01:45:00', 'time_s_01:50:00', 'time_s_01:55:00', 'time_s_02:00:00', 'time_s_02:05:00', 'time_s_02:10:00', 'time_s_02:15:00', 'time_s_02:20:00', 'time_s_02:25:00', 'time_s_02:30:00', 'time_s_02:35:00', 'time_s_02:40:00', 'time_s_02:45:00', 'time_s_02:50:00', 'time_s_02:55:00', 'time_s_03:00:00', 'time_s_03:05:00', 'time_s_03:10:00', 'time_s_03:15:00', 'time_s_03:20:00', 'time_s_03:25:00', 'time_s_03:30:00', 'time_s_03:35:00', 'time_s_03:40:00', 'time_s_03:45:00', 'time_s_03:50:00', 'time_s_03:55:00', 'time_s_04:00:00', 'time_s_04:05:00', 'time_s_04:10:00', 'time_s_04:15:00', 'time_s_04:20:00', 'time_s_04:25:00', 'time_s_04:30:00', 'time_s_04:35:00', 'time_s_04:40:00', 'time_s_04:45:00', 'time_s_04:50:00', 'time_s_04:55:00', 'time_s_05:00:00', 'time_s_05:05:00', 'time_s_05:10:00', 'time_s_05:15:00', 'time_s_05:20:00', 'time_s_05:25:00', 'time_s_05:30:00', 'time_s_05:35:00', 'time_s_05:40:00', 'time_s_05:45:00', 'time_s_05:50:00', 'time_s_05:55:00', 'time_s_06:00:00', 'time_s_06:05:00', 'time_s_06:10:00', 'time_s_06:15:00', 'time_s_06:20:00', 'time_s_06:25:00', 'time_s_06:30:00', 'time_s_06:35:00', 'time_s_06:40:00', 'time_s_06:45:00', 'time_s_06:50:00', 'time_s_06:55:00', 'time_s_07:00:00', 'time_s_07:05:00', 'time_s_07:10:00', 'time_s_07:15:00', 'time_s_07:20:00', 'time_s_07:25:00', 'time_s_07:30:00', 'time_s_07:35:00', 'time_s_07:40:00', 'time_s_07:45:00', 'time_s_07:50:00', 'time_s_07:55:00', 'time_s_08:00:00', 'time_s_08:05:00', 'time_s_08:10:00', 'time_s_08:15:00', 'time_s_08:20:00', 'time_s_08:25:00', 'time_s_08:30:00', 'time_s_08:35:00', 'time_s_08:40:00', 'time_s_08:45:00', 'time_s_08:50:00', 'time_s_08:55:00', 'time_s_09:00:00', 'time_s_09:05:00', 'time_s_09:10:00', 'time_s_09:15:00', 'time_s_09:20:00', 'time_s_09:25:00', 'time_s_09:30:00', 'time_s_09:35:00', 'time_s_09:40:00', 'time_s_09:45:00', 'time_s_09:50:00', 'time_s_09:55:00', 'time_s_10:00:00', 'time_s_10:05:00', 'time_s_10:10:00', 'time_s_10:15:00', 'time_s_10:20:00', 'time_s_10:25:00', 'time_s_10:30:00', 'time_s_10:35:00', 'time_s_10:40:00', 'time_s_10:45:00', 'time_s_10:50:00', 'time_s_10:55:00', 'time_s_11:00:00', 'time_s_11:05:00', 'time_s_11:10:00', 'time_s_11:15:00', 'time_s_11:20:00', 'time_s_11:25:00', 'time_s_11:30:00', 'time_s_11:35:00', 'time_s_11:40:00', 'time_s_11:45:00', 'time_s_11:50:00', 'time_s_11:55:00', 'time_s_12:00:00', 'time_s_12:05:00', 'time_s_12:10:00', 'time_s_12:15:00', 'time_s_12:20:00', 'time_s_12:25:00', 'time_s_12:30:00', 'time_s_12:35:00', 'time_s_12:40:00', 'time_s_12:45:00', 'time_s_12:50:00', 'time_s_12:55:00', 'time_s_13:00:00', 'time_s_13:05:00', 'time_s_13:10:00', 'time_s_13:15:00', 'time_s_13:20:00', 'time_s_13:25:00', 'time_s_13:30:00', 'time_s_13:35:00', 'time_s_13:40:00', 'time_s_13:45:00', 'time_s_13:50:00', 'time_s_13:55:00', 'time_s_14:00:00', 'time_s_14:05:00', 'time_s_14:10:00', 'time_s_14:15:00', 'time_s_14:20:00', 'time_s_14:25:00', 'time_s_14:30:00', 'time_s_14:35:00', 'time_s_14:40:00', 'time_s_14:45:00', 'time_s_14:50:00', 'time_s_14:55:00', 'time_s_15:00:00', 'time_s_15:05:00', 'time_s_15:10:00', 'time_s_15:15:00', 'time_s_15:20:00', 'time_s_15:25:00', 'time_s_15:30:00', 'time_s_15:35:00', 'time_s_15:40:00', 'time_s_15:45:00', 'time_s_15:50:00', 'time_s_15:55:00', 'time_s_16:00:00', 'time_s_16:05:00', 'time_s_16:10:00', 'time_s_16:15:00', 'time_s_16:20:00', 'time_s_16:25:00', 'time_s_16:30:00', 'time_s_16:35:00', 'time_s_16:40:00', 'time_s_16:45:00', 'time_s_16:50:00', 'time_s_16:55:00', 'time_s_17:00:00', 'time_s_17:05:00', 'time_s_17:10:00', 'time_s_17:15:00', 'time_s_17:20:00', 'time_s_17:25:00', 'time_s_17:30:00', 'time_s_17:35:00', 'time_s_17:40:00', 'time_s_17:45:00', 'time_s_17:50:00', 'time_s_17:55:00', 'time_s_18:00:00', 'time_s_18:05:00', 'time_s_18:10:00', 'time_s_18:15:00', 'time_s_18:20:00', 'time_s_18:25:00', 'time_s_18:30:00', 'time_s_18:35:00', 'time_s_18:40:00', 'time_s_18:45:00', 'time_s_18:50:00', 'time_s_18:55:00', 'time_s_19:00:00', 'time_s_19:05:00', 'time_s_19:10:00', 'time_s_19:15:00', 'time_s_19:20:00', 'time_s_19:25:00', 'time_s_19:30:00', 'time_s_19:35:00', 'time_s_19:40:00', 'time_s_19:45:00', 'time_s_19:50:00', 'time_s_19:55:00', 'time_s_20:00:00', 'time_s_20:05:00', 'time_s_20:10:00', 'time_s_20:15:00', 'time_s_20:20:00', 'time_s_20:25:00', 'time_s_20:30:00', 'time_s_20:35:00', 'time_s_20:40:00', 'time_s_20:45:00', 'time_s_20:50:00', 'time_s_20:55:00', 'time_s_21:00:00', 'time_s_21:05:00', 'time_s_21:10:00', 'time_s_21:15:00', 'time_s_21:20:00', 'time_s_21:25:00', 'time_s_21:30:00', 'time_s_21:35:00', 'time_s_21:40:00', 'time_s_21:45:00', 'time_s_21:50:00', 'time_s_21:55:00', 'time_s_22:00:00', 'time_s_22:05:00', 'time_s_22:10:00', 'time_s_22:15:00', 'time_s_22:20:00', 'time_s_22:25:00', 'time_s_22:30:00', 'time_s_22:35:00', 'time_s_22:40:00', 'time_s_22:45:00', 'time_s_22:50:00', 'time_s_22:55:00', 'time_s_23:00:00', 'time_s_23:05:00', 'time_s_23:10:00', 'time_s_23:15:00', 'time_s_23:20:00', 'time_s_23:25:00', 'time_s_23:30:00', 'time_s_23:35:00', 'time_s_23:40:00', 'time_s_23:45:00', 'time_s_23:50:00', 'time_s_23:55:00']\n"
     ]
    }
   ],
   "source": [
    "# Get the variable list and remove the target variable and irrelevant columns\n",
    "column_names = list(new_dum.columns)\n",
    "column_names.remove('dt_x')\n",
    "column_names.remove('Lane_x')\n",
    "column_names.remove('Mean_x')\n",
    "column_names.remove('dt_y')\n",
    "# Print the list of column names\n",
    "print(column_names)"
   ]
  },
  {
   "cell_type": "code",
   "execution_count": 55,
   "id": "b0f796cb-e292-4d7e-ab1a-4ef8fe57c647",
   "metadata": {
    "tags": []
   },
   "outputs": [],
   "source": [
    "from sklearn.preprocessing import StandardScaler,PolynomialFeatures\n",
    "\n",
    "X = new_dum[column_names]\n",
    "Y = new_dum['Mean_x']\n",
    "x_train, x_test, y_train, y_test = train_test_split(X, Y, test_size=0.2, random_state=0)\n",
    "\n",
    "sc = StandardScaler()\n",
    "x_train = sc.fit_transform(x_train)\n",
    "x_test = sc.transform(x_test)\n"
   ]
  },
  {
   "cell_type": "code",
   "execution_count": 56,
   "id": "d662de79-46d4-4f9a-b8f6-f0a77012713a",
   "metadata": {
    "tags": []
   },
   "outputs": [
    {
     "name": "stdout",
     "output_type": "stream",
     "text": [
      "x_train: (6451, 300)\n",
      "x_test: (1613, 300)\n",
      "y_train: 6451\n",
      "y_test: 1613\n"
     ]
    }
   ],
   "source": [
    "print(\"x_train:\",x_train.shape)\n",
    "print(\"x_test:\",x_test.shape)\n",
    "print(\"y_train:\",y_train.shape[0])\n",
    "print(\"y_test:\",y_test.shape[0])"
   ]
  },
  {
   "cell_type": "code",
   "execution_count": 57,
   "id": "94afc036-ef89-4c7c-99ab-c96b962674dc",
   "metadata": {
    "tags": []
   },
   "outputs": [
    {
     "name": "stdout",
     "output_type": "stream",
     "text": [
      "RMSE: 0.8525872352074951\n"
     ]
    }
   ],
   "source": [
    "#LinearRegression model\n",
    "from sklearn.linear_model import LinearRegression\n",
    "# Train a linear regression model on the training set\n",
    "regressor = LinearRegression()\n",
    "# Fit the regressor with the training data\n",
    "regressor.fit(x_train, y_train)\n",
    "# Predict the values for the test set\n",
    "y_pred = regressor.predict(x_test)\n",
    "\n",
    "rmse = np.sqrt(mean_squared_error(y_test, y_pred))\n",
    "print(\"RMSE:\", rmse)"
   ]
  },
  {
   "cell_type": "code",
   "execution_count": 58,
   "id": "2f244aea-309e-4e02-91a5-4ee367b353fa",
   "metadata": {
    "tags": []
   },
   "outputs": [
    {
     "name": "stdout",
     "output_type": "stream",
     "text": [
      " Accuracy of the model is 97.51\n"
     ]
    }
   ],
   "source": [
    "from sklearn.metrics import r2_score\n",
    "Accuracy_lr=r2_score(y_test,y_pred)*100\n",
    "print(\" Accuracy of the model is %.2f\" %Accuracy_lr)"
   ]
  },
  {
   "cell_type": "code",
   "execution_count": 59,
   "id": "2bd39c5f-7e85-4e31-8b68-6bc4ccc216ba",
   "metadata": {
    "tags": []
   },
   "outputs": [
    {
     "data": {
      "image/png": "[encoded data removed]",
      "text/plain": [
       "<Figure size 640x480 with 1 Axes>"
      ]
     },
     "metadata": {},
     "output_type": "display_data"
    }
   ],
   "source": [
    "# Plot the actual values\n",
    "plt.scatter(y_test, y_test, color='blue', label='Actual')\n",
    "\n",
    "# Plot the predicted values\n",
    "plt.scatter(y_test, y_pred, color='red', label='Predicted')\n",
    "\n",
    "# Set the axis labels and legend\n",
    "plt.xlabel('Actual HOV Speed')\n",
    "plt.ylabel('Predicted HOV Speed')\n",
    "plt.legend()\n",
    "\n",
    "# Show the plot\n",
    "plt.show()\n"
   ]
  },
  {
   "cell_type": "code",
   "execution_count": 64,
   "id": "5f6def1a-6574-490e-b903-6b85c073a04b",
   "metadata": {
    "tags": []
   },
   "outputs": [
    {
     "name": "stdout",
     "output_type": "stream",
     "text": [
      "RMSE for this model is:  0.8525872352074951\n"
     ]
    }
   ],
   "source": [
    "from sklearn.metrics import mean_squared_error\n",
    "import math\n",
    "\n",
    "print('RMSE for linear regression model is: ', math.sqrt(mean_squared_error(y_test, y_pred)))"
   ]
  },
  {
   "cell_type": "code",
   "execution_count": 60,
   "id": "b5116b42-134f-4025-99f9-46f0bf6e82d3",
   "metadata": {
    "tags": []
   },
   "outputs": [
    {
     "data": {
      "image/png": "[encoded data removed]",
      "text/plain": [
       "<Figure size 2000x1000 with 1 Axes>"
      ]
     },
     "metadata": {},
     "output_type": "display_data"
    }
   ],
   "source": [
    "f, ax = plt.subplots(figsize=(20, 10)) \n",
    "sns.distplot(y_test, hist=True, label=\"Actual HOV Speed\")\n",
    "sns.distplot(y_pred, hist=True, label=\"Predicted HOV Speed\")\n",
    "plt.xlabel(\"HOV Speed\")\n",
    "plt.legend()\n",
    "plt.show()"
   ]
  },
  {
   "cell_type": "code",
   "execution_count": null,
   "id": "40aa5f8c-d485-4f53-ae1c-ecb2bb22b1fd",
   "metadata": {
    "tags": []
   },
   "outputs": [],
   "source": []
  },
  {
   "cell_type": "code",
   "execution_count": null,
   "id": "ab6ef62f-034e-4da5-b3ae-180f2c2d9b39",
   "metadata": {
    "tags": []
   },
   "outputs": [],
   "source": []
  },
  {
   "cell_type": "code",
   "execution_count": 93,
   "id": "649f1aa6-dcab-4b28-9ca6-62059ea5a655",
   "metadata": {
    "tags": []
   },
   "outputs": [],
   "source": [
    "#svm model\n"
   ]
  },
  {
   "cell_type": "code",
   "execution_count": 62,
   "id": "1dee67b4-4b84-4e5c-8f01-96a4db6deaa8",
   "metadata": {
    "tags": []
   },
   "outputs": [],
   "source": [
    "import pandas as pd\n",
    "from sklearn import svm\n",
    "RegModel = svm.SVR(C=2, kernel='linear')\n"
   ]
  },
  {
   "cell_type": "code",
   "execution_count": 65,
   "id": "31a0b606-fb79-4b1c-ab35-b93a8b015ae5",
   "metadata": {
    "tags": []
   },
   "outputs": [],
   "source": [
    "\n",
    "##Creating the model on Training Data\n",
    "\n",
    "SVM=RegModel.fit(x_train,y_train)\n",
    "y_pred_SVM = SVM.predict(x_test)"
   ]
  },
  {
   "cell_type": "code",
   "execution_count": 66,
   "id": "f5cae5f7-7fb3-4131-8de1-5e43aadb5ee0",
   "metadata": {
    "tags": []
   },
   "outputs": [
    {
     "name": "stdout",
     "output_type": "stream",
     "text": [
      "RMSE for SVM model is:  0.8688802309925242\n"
     ]
    }
   ],
   "source": [
    "print('RMSE for SVM model is: ', math.sqrt(mean_squared_error(y_test, y_pred_SVM)))"
   ]
  },
  {
   "cell_type": "code",
   "execution_count": 67,
   "id": "eebbb9ab-6cbf-486f-973c-3fe40360ae09",
   "metadata": {
    "tags": []
   },
   "outputs": [
    {
     "data": {
      "image/png": "[encoded data removed]",
      "text/plain": [
       "<Figure size 640x480 with 1 Axes>"
      ]
     },
     "metadata": {},
     "output_type": "display_data"
    }
   ],
   "source": [
    "# Plot the actual values\n",
    "plt.scatter(y_test, y_test, color='blue', label='Actual')\n",
    "\n",
    "# Plot the predicted values\n",
    "plt.scatter(y_test, y_pred_SVM, color='red', label='Predicted')\n",
    "\n",
    "# Set the axis labels and legend\n",
    "plt.xlabel('Actual HOV Speed')\n",
    "plt.ylabel('Predicted HOV Speed')\n",
    "plt.legend()\n",
    "\n",
    "# Show the plot\n",
    "plt.show()"
   ]
  },
  {
   "cell_type": "code",
   "execution_count": null,
   "id": "00392b6e-5236-4737-9a1f-cb2127120e59",
   "metadata": {
    "tags": []
   },
   "outputs": [],
   "source": []
  },
  {
   "cell_type": "code",
   "execution_count": null,
   "id": "90045380-634c-4e12-bb56-b776f176e515",
   "metadata": {
    "tags": []
   },
   "outputs": [],
   "source": []
  },
  {
   "cell_type": "code",
   "execution_count": null,
   "id": "9d420b92-a613-46cb-be6d-c8a61a57f9a2",
   "metadata": {
    "tags": []
   },
   "outputs": [],
   "source": [
    "\n"
   ]
  },
  {
   "cell_type": "code",
   "execution_count": null,
   "id": "bf3d42a2-a6d3-423e-a5a1-f15728e71850",
   "metadata": {
    "tags": []
   },
   "outputs": [],
   "source": []
  },
  {
   "cell_type": "code",
   "execution_count": null,
   "id": "5e215a57-a79e-474b-b12d-732d41e28473",
   "metadata": {},
   "outputs": [],
   "source": []
  },
  {
   "cell_type": "code",
   "execution_count": null,
   "id": "1ed3b7e9-aced-4b50-86ee-10466e1d3066",
   "metadata": {},
   "outputs": [],
   "source": []
  },
  {
   "cell_type": "code",
   "execution_count": 68,
   "id": "9bacb78a-75dc-40bb-a277-8a01ea828e9d",
   "metadata": {},
   "outputs": [
    {
     "data": {
      "text/plain": [
       "(6451, 300)"
      ]
     },
     "execution_count": 68,
     "metadata": {},
     "output_type": "execute_result"
    }
   ],
   "source": [
    "x_train.shape"
   ]
  },
  {
   "cell_type": "code",
   "execution_count": 69,
   "id": "a37c1ba6-9c2f-4480-8a3e-8444bafaf529",
   "metadata": {},
   "outputs": [
    {
     "data": {
      "text/plain": [
       "(6451,)"
      ]
     },
     "execution_count": 69,
     "metadata": {},
     "output_type": "execute_result"
    }
   ],
   "source": [
    "y_train.shape"
   ]
  },
  {
   "cell_type": "code",
   "execution_count": 72,
   "id": "6f2b6816-bea0-4508-88a5-c8a163025f22",
   "metadata": {
    "tags": []
   },
   "outputs": [],
   "source": [
    "from tensorflow import keras"
   ]
  },
  {
   "cell_type": "code",
   "execution_count": 75,
   "id": "cf585f31-18a6-4cfc-8e49-1f98b5838f5e",
   "metadata": {
    "tags": []
   },
   "outputs": [],
   "source": []
  },
  {
   "cell_type": "code",
   "execution_count": 78,
   "id": "fc563ff1-4f0c-49ac-b7e6-68a8ac601960",
   "metadata": {
    "tags": []
   },
   "outputs": [],
   "source": [
    "# Neural Nerwork model\n",
    "import numpy as np\n",
    "#from tensorflow import keras\n",
    "from tensorflow import keras\n",
    "from tensorflow.keras.models import Sequential\n",
    "from tensorflow.keras.layers import Dense\n",
    "from sklearn.model_selection import train_test_split\n",
    "\n",
    "\n",
    "# Define the model architecture\n",
    "model = Sequential()\n",
    "model.add(Dense(300, input_dim = 300))\n",
    "model.add(Dense(50, input_dim = 300, activation='relu'))\n",
    "model.add(Dense(10, activation='relu'))\n",
    "model.add(Dense(1))\n",
    "# Compile the model\n",
    "model.compile(loss='mean_squared_error', optimizer='adam', metrics = 'accuracy')\n",
    "\n",
    "# Train the model\n",
    "#model.fit(x_train, y_train, epochs=50, batch_size=32)\n",
    "\n",
    "# Evaluate the model on the test set\n",
    "#mse = model.evaluate(x_test, y_test)\n",
    "#print(\"MSE:\", mse)\n",
    "\n"
   ]
  },
  {
   "cell_type": "code",
   "execution_count": 86,
   "id": "d9294651-c4c6-4f2f-aaed-9479316e0a32",
   "metadata": {
    "tags": []
   },
   "outputs": [],
   "source": [
    "x_train = pd.DataFrame(x_train)\n",
    "x_train = np.array(x_train)\n",
    "x_train = np.asarray(x_train).astype('float32')"
   ]
  },
  {
   "cell_type": "code",
   "execution_count": 87,
   "id": "b747c57d-0a4f-4118-b34f-25442bf4541c",
   "metadata": {
    "tags": []
   },
   "outputs": [
    {
     "data": {
      "text/plain": [
       "pandas.core.series.Series"
      ]
     },
     "execution_count": 87,
     "metadata": {},
     "output_type": "execute_result"
    }
   ],
   "source": [
    "type(y_train)"
   ]
  },
  {
   "cell_type": "code",
   "execution_count": 89,
   "id": "6f0bfd9a-fdea-4a7e-b4e5-0bacce0f3f46",
   "metadata": {
    "tags": []
   },
   "outputs": [
    {
     "name": "stdout",
     "output_type": "stream",
     "text": [
      "Epoch 1/50\n",
      "202/202 [==============================] - 1s 4ms/step - loss: 435.3265 - accuracy: 0.0000e+00\n",
      "Epoch 2/50\n",
      "202/202 [==============================] - 0s 2ms/step - loss: 2.9116 - accuracy: 0.0000e+00\n",
      "Epoch 3/50\n",
      "202/202 [==============================] - 0s 2ms/step - loss: 2.4536 - accuracy: 0.0000e+00\n",
      "Epoch 4/50\n",
      "202/202 [==============================] - 0s 2ms/step - loss: 2.2456 - accuracy: 0.0000e+00\n",
      "Epoch 5/50\n",
      "202/202 [==============================] - 0s 2ms/step - loss: 2.2866 - accuracy: 0.0000e+00\n",
      "Epoch 6/50\n",
      "202/202 [==============================] - 0s 2ms/step - loss: 2.2302 - accuracy: 0.0000e+00\n",
      "Epoch 7/50\n",
      "202/202 [==============================] - 0s 2ms/step - loss: 2.3563 - accuracy: 0.0000e+00\n",
      "Epoch 8/50\n",
      "202/202 [==============================] - 0s 2ms/step - loss: 2.1729 - accuracy: 0.0000e+00\n",
      "Epoch 9/50\n",
      "202/202 [==============================] - 0s 2ms/step - loss: 2.0458 - accuracy: 0.0000e+00\n",
      "Epoch 10/50\n",
      "202/202 [==============================] - 0s 2ms/step - loss: 2.1254 - accuracy: 0.0000e+00\n",
      "Epoch 11/50\n",
      "202/202 [==============================] - 0s 2ms/step - loss: 1.9419 - accuracy: 0.0000e+00\n",
      "Epoch 12/50\n",
      "202/202 [==============================] - 0s 2ms/step - loss: 2.0093 - accuracy: 0.0000e+00\n",
      "Epoch 13/50\n",
      "202/202 [==============================] - 0s 2ms/step - loss: 1.9930 - accuracy: 0.0000e+00\n",
      "Epoch 14/50\n",
      "202/202 [==============================] - 0s 2ms/step - loss: 2.0468 - accuracy: 0.0000e+00\n",
      "Epoch 15/50\n",
      "202/202 [==============================] - 0s 2ms/step - loss: 1.7773 - accuracy: 0.0000e+00\n",
      "Epoch 16/50\n",
      "202/202 [==============================] - 0s 2ms/step - loss: 1.8554 - accuracy: 0.0000e+00\n",
      "Epoch 17/50\n",
      "202/202 [==============================] - 0s 2ms/step - loss: 1.8633 - accuracy: 0.0000e+00\n",
      "Epoch 18/50\n",
      "202/202 [==============================] - 0s 2ms/step - loss: 1.6621 - accuracy: 0.0000e+00\n",
      "Epoch 19/50\n",
      "202/202 [==============================] - 0s 2ms/step - loss: 1.8256 - accuracy: 0.0000e+00\n",
      "Epoch 20/50\n",
      "202/202 [==============================] - 0s 2ms/step - loss: 1.5665 - accuracy: 0.0000e+00\n",
      "Epoch 21/50\n",
      "202/202 [==============================] - 0s 2ms/step - loss: 1.5470 - accuracy: 0.0000e+00\n",
      "Epoch 22/50\n",
      "202/202 [==============================] - 0s 2ms/step - loss: 1.6393 - accuracy: 0.0000e+00\n",
      "Epoch 23/50\n",
      "202/202 [==============================] - 0s 2ms/step - loss: 1.6626 - accuracy: 0.0000e+00\n",
      "Epoch 24/50\n",
      "202/202 [==============================] - 0s 2ms/step - loss: 1.5896 - accuracy: 0.0000e+00\n",
      "Epoch 25/50\n",
      "202/202 [==============================] - 0s 2ms/step - loss: 1.5478 - accuracy: 0.0000e+00\n",
      "Epoch 26/50\n",
      "202/202 [==============================] - 0s 2ms/step - loss: 1.5579 - accuracy: 0.0000e+00\n",
      "Epoch 27/50\n",
      "202/202 [==============================] - 0s 2ms/step - loss: 1.3923 - accuracy: 0.0000e+00\n",
      "Epoch 28/50\n",
      "202/202 [==============================] - 0s 2ms/step - loss: 1.3420 - accuracy: 0.0000e+00\n",
      "Epoch 29/50\n",
      "202/202 [==============================] - 0s 2ms/step - loss: 1.2646 - accuracy: 0.0000e+00\n",
      "Epoch 30/50\n",
      "202/202 [==============================] - 0s 2ms/step - loss: 1.4599 - accuracy: 0.0000e+00\n",
      "Epoch 31/50\n",
      "202/202 [==============================] - 0s 2ms/step - loss: 1.2181 - accuracy: 0.0000e+00\n",
      "Epoch 32/50\n",
      "202/202 [==============================] - 0s 2ms/step - loss: 1.1763 - accuracy: 0.0000e+00\n",
      "Epoch 33/50\n",
      "202/202 [==============================] - 0s 2ms/step - loss: 1.1703 - accuracy: 0.0000e+00\n",
      "Epoch 34/50\n",
      "202/202 [==============================] - 0s 2ms/step - loss: 1.1737 - accuracy: 0.0000e+00\n",
      "Epoch 35/50\n",
      "202/202 [==============================] - 0s 2ms/step - loss: 1.2383 - accuracy: 0.0000e+00\n",
      "Epoch 36/50\n",
      "202/202 [==============================] - 0s 2ms/step - loss: 1.1626 - accuracy: 0.0000e+00\n",
      "Epoch 37/50\n",
      "202/202 [==============================] - 0s 2ms/step - loss: 1.1004 - accuracy: 0.0000e+00\n",
      "Epoch 38/50\n",
      "202/202 [==============================] - 0s 2ms/step - loss: 1.1326 - accuracy: 0.0000e+00\n",
      "Epoch 39/50\n",
      "202/202 [==============================] - 0s 2ms/step - loss: 0.9621 - accuracy: 0.0000e+00\n",
      "Epoch 40/50\n",
      "202/202 [==============================] - 0s 2ms/step - loss: 1.1271 - accuracy: 0.0000e+00\n",
      "Epoch 41/50\n",
      "202/202 [==============================] - 0s 2ms/step - loss: 1.0077 - accuracy: 0.0000e+00\n",
      "Epoch 42/50\n",
      "202/202 [==============================] - 0s 2ms/step - loss: 0.9346 - accuracy: 0.0000e+00\n",
      "Epoch 43/50\n",
      "202/202 [==============================] - 0s 2ms/step - loss: 1.0249 - accuracy: 0.0000e+00\n",
      "Epoch 44/50\n",
      "202/202 [==============================] - 0s 2ms/step - loss: 0.8784 - accuracy: 0.0000e+00\n",
      "Epoch 45/50\n",
      "202/202 [==============================] - 0s 2ms/step - loss: 0.9959 - accuracy: 0.0000e+00\n",
      "Epoch 46/50\n",
      "202/202 [==============================] - 0s 2ms/step - loss: 1.0703 - accuracy: 0.0000e+00\n",
      "Epoch 47/50\n",
      "202/202 [==============================] - 0s 2ms/step - loss: 0.9441 - accuracy: 0.0000e+00\n",
      "Epoch 48/50\n",
      "202/202 [==============================] - 0s 2ms/step - loss: 0.8614 - accuracy: 0.0000e+00\n",
      "Epoch 49/50\n",
      "202/202 [==============================] - 0s 2ms/step - loss: 0.7843 - accuracy: 0.0000e+00\n",
      "Epoch 50/50\n",
      "202/202 [==============================] - 0s 2ms/step - loss: 0.9085 - accuracy: 0.0000e+00\n"
     ]
    },
    {
     "data": {
      "text/plain": [
       "<tensorflow.python.keras.callbacks.History at 0x7f291854b810>"
      ]
     },
     "execution_count": 89,
     "metadata": {},
     "output_type": "execute_result"
    }
   ],
   "source": [
    "# Train the model\n",
    "x_train = np.asarray(x_train).astype(np.float32)\n",
    "y_train = np.asarray(y_train).astype(np.float32)\n",
    "model.fit(x_train, y_train, epochs=50, batch_size=32)"
   ]
  },
  {
   "cell_type": "code",
   "execution_count": 94,
   "id": "1830dda7-af96-4c15-b2c6-79039d94df84",
   "metadata": {},
   "outputs": [
    {
     "name": "stdout",
     "output_type": "stream",
     "text": [
      "51/51 [==============================] - 0s 1ms/step - loss: 1.0833 - accuracy: 0.0000e+00\n",
      "RMSE for the NN model 1.0408129754275839\n"
     ]
    }
   ],
   "source": [
    "# Evaluate the model on the test set\n",
    "x_test = np.asarray(x_test).astype(np.float32)\n",
    "y_test = np.asarray(y_test).astype(np.float32)\n",
    "a,b = model.evaluate(x_test, y_test)\n",
    "\n",
    "print(\"RMSE for the NN model\",math.sqrt(a))"
   ]
  },
  {
   "cell_type": "code",
   "execution_count": 96,
   "id": "665d83fb-2158-4e6c-bbad-ac5389ed4458",
   "metadata": {},
   "outputs": [
    {
     "name": "stdout",
     "output_type": "stream",
     "text": [
      "RMSE for NN model is:  1.0408129754275839\n"
     ]
    }
   ],
   "source": [
    "y_pred_NN = model.predict(x_test)\n",
    "print('RMSE for NN model is: ', math.sqrt(mean_squared_error(y_test, y_pred_NN)))"
   ]
  },
  {
   "cell_type": "code",
   "execution_count": null,
   "id": "ef980eb7-f173-4f5d-9f4d-a295f8e75f15",
   "metadata": {},
   "outputs": [],
   "source": []
  },
  {
   "cell_type": "code",
   "execution_count": null,
   "id": "6bce8e28-5d6e-4b6a-9a0e-d5aa3f79f045",
   "metadata": {},
   "outputs": [],
   "source": []
  },
  {
   "cell_type": "code",
   "execution_count": null,
   "id": "d7b635f3-b442-4e5d-bcd1-4e3ee3543982",
   "metadata": {},
   "outputs": [],
   "source": []
  },
  {
   "cell_type": "code",
   "execution_count": null,
   "id": "73db3501-e994-4b58-ac53-49e449dd034b",
   "metadata": {
    "tags": []
   },
   "outputs": [],
   "source": []
  },
  {
   "cell_type": "code",
   "execution_count": null,
   "id": "c75df6ad-21e4-4477-b088-d1e6f0ea96d4",
   "metadata": {
    "tags": []
   },
   "outputs": [],
   "source": []
  },
  {
   "cell_type": "code",
   "execution_count": null,
   "id": "3980aba2-e660-49d6-93bc-1bbf66a48a0a",
   "metadata": {},
   "outputs": [],
   "source": []
  },
  {
   "cell_type": "code",
   "execution_count": null,
   "id": "f67d62b2-0c16-45de-945c-f3b137b04674",
   "metadata": {},
   "outputs": [],
   "source": []
  },
  {
   "cell_type": "code",
   "execution_count": null,
   "id": "ce107fb1-5771-46a0-908b-e7bc86e985f0",
   "metadata": {},
   "outputs": [],
   "source": []
  },
  {
   "cell_type": "code",
   "execution_count": null,
   "id": "9eb3cd1d-b0b3-478f-a263-e1831fd79b3b",
   "metadata": {},
   "outputs": [],
   "source": []
  },
  {
   "cell_type": "code",
   "execution_count": null,
   "id": "5cf31292-403b-4866-83ff-8e5fcc0b2f9e",
   "metadata": {},
   "outputs": [],
   "source": []
  },
  {
   "cell_type": "code",
   "execution_count": null,
   "id": "a194c860-96d8-4660-8876-799edeb55550",
   "metadata": {},
   "outputs": [],
   "source": []
  },
  {
   "cell_type": "code",
   "execution_count": null,
   "id": "20a7e588-3820-4d6a-9dc5-e01530932b4e",
   "metadata": {
    "tags": []
   },
   "outputs": [],
   "source": [
    "\n"
   ]
  },
  {
   "cell_type": "code",
   "execution_count": 115,
   "id": "aa95af1a-f794-4356-9c36-b0beae538c94",
   "metadata": {
    "tags": []
   },
   "outputs": [],
   "source": []
  },
  {
   "cell_type": "code",
   "execution_count": 116,
   "id": "863e0dc1-ee02-4165-90cf-b0d1493ed835",
   "metadata": {
    "tags": []
   },
   "outputs": [
    {
     "name": "stdout",
     "output_type": "stream",
     "text": [
      "RMSE value for k=  1 is: 0.26082146447296145\n",
      "RMSE value for k=  2 is: 0.4543010170967615\n",
      "RMSE value for k=  3 is: 0.7759674747062697\n",
      "RMSE value for k=  4 is: 1.1082518415488163\n",
      "RMSE value for k=  5 is: 1.480368084788379\n",
      "RMSE value for k=  6 is: 1.812941790440021\n",
      "RMSE value for k=  7 is: 2.032807337033337\n",
      "RMSE value for k=  8 is: 2.120563391043881\n",
      "RMSE value for k=  9 is: 2.104251908927339\n",
      "RMSE value for k=  10 is: 2.0507945988496266\n",
      "RMSE value for k=  11 is: 2.0500865054173754\n",
      "RMSE value for k=  12 is: 2.0813188139835512\n",
      "RMSE value for k=  13 is: 2.139939360089919\n",
      "RMSE value for k=  14 is: 2.217768493535663\n",
      "RMSE value for k=  15 is: 2.3155614381806235\n",
      "RMSE value for k=  16 is: 2.423410613448646\n",
      "RMSE value for k=  17 is: 2.5420543653237133\n",
      "RMSE value for k=  18 is: 2.653140481749042\n",
      "RMSE value for k=  19 is: 2.773606036963338\n",
      "RMSE value for k=  20 is: 2.849876939648576\n"
     ]
    }
   ],
   "source": []
  },
  {
   "cell_type": "code",
   "execution_count": 117,
   "id": "722c9570-75ab-4209-9163-4947175a1f40",
   "metadata": {
    "tags": []
   },
   "outputs": [
    {
     "data": {
      "text/plain": [
       "<matplotlib.axes._subplots.AxesSubplot at 0x7f374ff48550>"
      ]
     },
     "execution_count": 117,
     "metadata": {},
     "output_type": "execute_result"
    },
    {
     "data": {
      "image/png": "[encoded data removed]",
      "text/plain": [
       "<Figure size 640x480 with 1 Axes>"
      ]
     },
     "metadata": {},
     "output_type": "display_data"
    }
   ],
   "source": [
    "#plotting the rmse values against k values\n",
    "curve = pd.DataFrame(rmse_val) #elbow curve \n",
    "curve.plot()"
   ]
  },
  {
   "cell_type": "code",
   "execution_count": 122,
   "id": "77de1a05-9837-4cef-98b3-0a4147226c2e",
   "metadata": {
    "tags": []
   },
   "outputs": [],
   "source": [
    "\n",
    "\n",
    "#predicting on the test set\n",
    "predict = model.predict(x_test)\n",
    "\n"
   ]
  },
  {
   "cell_type": "code",
   "execution_count": null,
   "id": "0cf0f3db-bfc6-42bd-86d1-f92abe70f4dc",
   "metadata": {},
   "outputs": [],
   "source": []
  },
  {
   "cell_type": "code",
   "execution_count": null,
   "id": "5d6ce3c3-a4a0-4abf-a33c-fc4043fc5da6",
   "metadata": {},
   "outputs": [],
   "source": []
  },
  {
   "cell_type": "code",
   "execution_count": null,
   "id": "8fef34eb-3ad1-4d08-8f23-69fb74d3c81e",
   "metadata": {},
   "outputs": [],
   "source": []
  },
  {
   "cell_type": "code",
   "execution_count": null,
   "id": "6a192e70-6ae3-4ad8-bc79-884c6d0e2365",
   "metadata": {},
   "outputs": [],
   "source": []
  },
  {
   "cell_type": "code",
   "execution_count": 98,
   "id": "fe7514fa-7cea-442c-be7d-c82b1dfd1749",
   "metadata": {},
   "outputs": [
    {
     "name": "stdout",
     "output_type": "stream",
     "text": [
      "Collecting xgboost\n",
      "  Using cached xgboost-1.6.2-py3-none-manylinux2014_x86_64.whl (255.9 MB)\n",
      "Requirement already satisfied: scipy in /opt/conda/lib/python3.7/site-packages (from xgboost) (1.4.1)\n",
      "Requirement already satisfied: numpy in /opt/conda/lib/python3.7/site-packages (from xgboost) (1.18.5)\n",
      "Installing collected packages: xgboost\n",
      "Successfully installed xgboost-1.6.2\n",
      "\u001b[33mWARNING: Running pip as the 'root' user can result in broken permissions and conflicting behaviour with the system package manager. It is recommended to use a virtual environment instead: https://pip.pypa.io/warnings/venv\u001b[0m\u001b[33m\n",
      "\u001b[0m"
     ]
    }
   ],
   "source": [
    "# evaluate an xgboost regression model \n",
    "import sys\n",
    "\n",
    "!{sys.executable} -m pip install xgboost\n",
    "\n",
    "from numpy import absolute\n",
    "from pandas import read_csv\n",
    "from sklearn.model_selection import cross_val_score\n",
    "from sklearn.model_selection import RepeatedKFold\n",
    "from xgboost import XGBRegressor\n",
    "#load the dataset\n",
    "#model = XGBRegressor()\n",
    "# define model evaluation method\n",
    "#cv = RepeatedKFold(n_splits=10, n_repeats=3, random_state=1)\n",
    "# evaluate model\n",
    "#scores = cross_val_score(model, x_train, y_train, scoring='neg_mean_absolute_error', cv=cv, n_jobs=-1)\n",
    "# force scores to be positive\n",
    "#scores = absolute(scores)\n",
    "#print('Mean MAE: %.3f (%.3f)' % (scores.mean(), scores.std()) )"
   ]
  },
  {
   "cell_type": "code",
   "execution_count": 100,
   "id": "15f42b42-1703-42b7-92fe-2811d632b3d1",
   "metadata": {},
   "outputs": [],
   "source": [
    "#load the dataset\n",
    "model = XGBRegressor()\n",
    "# define model evaluation method\n",
    "cv = RepeatedKFold(n_splits=10, n_repeats=3, random_state=1)\n",
    "\n",
    "model.fit(x_train,y_train)\n",
    "y_pred_XGB = model.predict(x_test)\n",
    "# evaluate model\n",
    "# scores = cross_val_score(model, x_train, y_train, scoring='mean_squared_error', cv=cv, n_jobs=-1)\n",
    "\n"
   ]
  },
  {
   "cell_type": "code",
   "execution_count": 103,
   "id": "b913e811-4364-4fea-9c83-c662ca43e0b6",
   "metadata": {},
   "outputs": [
    {
     "name": "stdout",
     "output_type": "stream",
     "text": [
      "RMSE for XGB model is:  0.6188560818758817\n"
     ]
    }
   ],
   "source": [
    "print('RMSE for XGB model is: ', math.sqrt(mean_squared_error(y_test, y_pred_XGB)))"
   ]
  },
  {
   "cell_type": "code",
   "execution_count": 104,
   "id": "9ca63fc3-8651-4ccb-8be3-346b22a18eb5",
   "metadata": {},
   "outputs": [
    {
     "data": {
      "image/png": "[encoded data removed]",
      "text/plain": [
       "<Figure size 640x480 with 1 Axes>"
      ]
     },
     "metadata": {},
     "output_type": "display_data"
    }
   ],
   "source": [
    "# Plot the actual values\n",
    "plt.scatter(y_test, y_test, color='blue', label='Actual')\n",
    "\n",
    "# Plot the predicted values\n",
    "plt.scatter(y_test, y_pred_XGB, color='red', label='Predicted')\n",
    "\n",
    "# Set the axis labels and legend\n",
    "plt.xlabel('Actual HOV Speed')\n",
    "plt.ylabel('Predicted HOV Speed')\n",
    "plt.legend()\n",
    "\n",
    "# Show the plot\n",
    "plt.show()"
   ]
  },
  {
   "cell_type": "code",
   "execution_count": null,
   "id": "f89be110-d3a0-4ed7-bffe-aaeca759f39d",
   "metadata": {},
   "outputs": [],
   "source": []
  }
 ],
 "metadata": {
  "availableInstances": [
   {
    "_defaultOrder": 0,
    "_isFastLaunch": true,
    "category": "General purpose",
    "gpuNum": 0,
    "hideHardwareSpecs": false,
    "memoryGiB": 4,
    "name": "ml.t3.medium",
    "vcpuNum": 2
   },
   {
    "_defaultOrder": 1,
    "_isFastLaunch": false,
    "category": "General purpose",
    "gpuNum": 0,
    "hideHardwareSpecs": false,
    "memoryGiB": 8,
    "name": "ml.t3.large",
    "vcpuNum": 2
   },
   {
    "_defaultOrder": 2,
    "_isFastLaunch": false,
    "category": "General purpose",
    "gpuNum": 0,
    "hideHardwareSpecs": false,
    "memoryGiB": 16,
    "name": "ml.t3.xlarge",
    "vcpuNum": 4
   },
   {
    "_defaultOrder": 3,
    "_isFastLaunch": false,
    "category": "General purpose",
    "gpuNum": 0,
    "hideHardwareSpecs": false,
    "memoryGiB": 32,
    "name": "ml.t3.2xlarge",
    "vcpuNum": 8
   },
   {
    "_defaultOrder": 4,
    "_isFastLaunch": true,
    "category": "General purpose",
    "gpuNum": 0,
    "hideHardwareSpecs": false,
    "memoryGiB": 8,
    "name": "ml.m5.large",
    "vcpuNum": 2
   },
   {
    "_defaultOrder": 5,
    "_isFastLaunch": false,
    "category": "General purpose",
    "gpuNum": 0,
    "hideHardwareSpecs": false,
    "memoryGiB": 16,
    "name": "ml.m5.xlarge",
    "vcpuNum": 4
   },
   {
    "_defaultOrder": 6,
    "_isFastLaunch": false,
    "category": "General purpose",
    "gpuNum": 0,
    "hideHardwareSpecs": false,
    "memoryGiB": 32,
    "name": "ml.m5.2xlarge",
    "vcpuNum": 8
   },
   {
    "_defaultOrder": 7,
    "_isFastLaunch": false,
    "category": "General purpose",
    "gpuNum": 0,
    "hideHardwareSpecs": false,
    "memoryGiB": 64,
    "name": "ml.m5.4xlarge",
    "vcpuNum": 16
   },
   {
    "_defaultOrder": 8,
    "_isFastLaunch": false,
    "category": "General purpose",
    "gpuNum": 0,
    "hideHardwareSpecs": false,
    "memoryGiB": 128,
    "name": "ml.m5.8xlarge",
    "vcpuNum": 32
   },
   {
    "_defaultOrder": 9,
    "_isFastLaunch": false,
    "category": "General purpose",
    "gpuNum": 0,
    "hideHardwareSpecs": false,
    "memoryGiB": 192,
    "name": "ml.m5.12xlarge",
    "vcpuNum": 48
   },
   {
    "_defaultOrder": 10,
    "_isFastLaunch": false,
    "category": "General purpose",
    "gpuNum": 0,
    "hideHardwareSpecs": false,
    "memoryGiB": 256,
    "name": "ml.m5.16xlarge",
    "vcpuNum": 64
   },
   {
    "_defaultOrder": 11,
    "_isFastLaunch": false,
    "category": "General purpose",
    "gpuNum": 0,
    "hideHardwareSpecs": false,
    "memoryGiB": 384,
    "name": "ml.m5.24xlarge",
    "vcpuNum": 96
   },
   {
    "_defaultOrder": 12,
    "_isFastLaunch": false,
    "category": "General purpose",
    "gpuNum": 0,
    "hideHardwareSpecs": false,
    "memoryGiB": 8,
    "name": "ml.m5d.large",
    "vcpuNum": 2
   },
   {
    "_defaultOrder": 13,
    "_isFastLaunch": false,
    "category": "General purpose",
    "gpuNum": 0,
    "hideHardwareSpecs": false,
    "memoryGiB": 16,
    "name": "ml.m5d.xlarge",
    "vcpuNum": 4
   },
   {
    "_defaultOrder": 14,
    "_isFastLaunch": false,
    "category": "General purpose",
    "gpuNum": 0,
    "hideHardwareSpecs": false,
    "memoryGiB": 32,
    "name": "ml.m5d.2xlarge",
    "vcpuNum": 8
   },
   {
    "_defaultOrder": 15,
    "_isFastLaunch": false,
    "category": "General purpose",
    "gpuNum": 0,
    "hideHardwareSpecs": false,
    "memoryGiB": 64,
    "name": "ml.m5d.4xlarge",
    "vcpuNum": 16
   },
   {
    "_defaultOrder": 16,
    "_isFastLaunch": false,
    "category": "General purpose",
    "gpuNum": 0,
    "hideHardwareSpecs": false,
    "memoryGiB": 128,
    "name": "ml.m5d.8xlarge",
    "vcpuNum": 32
   },
   {
    "_defaultOrder": 17,
    "_isFastLaunch": false,
    "category": "General purpose",
    "gpuNum": 0,
    "hideHardwareSpecs": false,
    "memoryGiB": 192,
    "name": "ml.m5d.12xlarge",
    "vcpuNum": 48
   },
   {
    "_defaultOrder": 18,
    "_isFastLaunch": false,
    "category": "General purpose",
    "gpuNum": 0,
    "hideHardwareSpecs": false,
    "memoryGiB": 256,
    "name": "ml.m5d.16xlarge",
    "vcpuNum": 64
   },
   {
    "_defaultOrder": 19,
    "_isFastLaunch": false,
    "category": "General purpose",
    "gpuNum": 0,
    "hideHardwareSpecs": false,
    "memoryGiB": 384,
    "name": "ml.m5d.24xlarge",
    "vcpuNum": 96
   },
   {
    "_defaultOrder": 20,
    "_isFastLaunch": false,
    "category": "General purpose",
    "gpuNum": 0,
    "hideHardwareSpecs": true,
    "memoryGiB": 0,
    "name": "ml.geospatial.interactive",
    "supportedImageNames": [
     "sagemaker-geospatial-v1-0"
    ],
    "vcpuNum": 0
   },
   {
    "_defaultOrder": 21,
    "_isFastLaunch": true,
    "category": "Compute optimized",
    "gpuNum": 0,
    "hideHardwareSpecs": false,
    "memoryGiB": 4,
    "name": "ml.c5.large",
    "vcpuNum": 2
   },
   {
    "_defaultOrder": 22,
    "_isFastLaunch": false,
    "category": "Compute optimized",
    "gpuNum": 0,
    "hideHardwareSpecs": false,
    "memoryGiB": 8,
    "name": "ml.c5.xlarge",
    "vcpuNum": 4
   },
   {
    "_defaultOrder": 23,
    "_isFastLaunch": false,
    "category": "Compute optimized",
    "gpuNum": 0,
    "hideHardwareSpecs": false,
    "memoryGiB": 16,
    "name": "ml.c5.2xlarge",
    "vcpuNum": 8
   },
   {
    "_defaultOrder": 24,
    "_isFastLaunch": false,
    "category": "Compute optimized",
    "gpuNum": 0,
    "hideHardwareSpecs": false,
    "memoryGiB": 32,
    "name": "ml.c5.4xlarge",
    "vcpuNum": 16
   },
   {
    "_defaultOrder": 25,
    "_isFastLaunch": false,
    "category": "Compute optimized",
    "gpuNum": 0,
    "hideHardwareSpecs": false,
    "memoryGiB": 72,
    "name": "ml.c5.9xlarge",
    "vcpuNum": 36
   },
   {
    "_defaultOrder": 26,
    "_isFastLaunch": false,
    "category": "Compute optimized",
    "gpuNum": 0,
    "hideHardwareSpecs": false,
    "memoryGiB": 96,
    "name": "ml.c5.12xlarge",
    "vcpuNum": 48
   },
   {
    "_defaultOrder": 27,
    "_isFastLaunch": false,
    "category": "Compute optimized",
    "gpuNum": 0,
    "hideHardwareSpecs": false,
    "memoryGiB": 144,
    "name": "ml.c5.18xlarge",
    "vcpuNum": 72
   },
   {
    "_defaultOrder": 28,
    "_isFastLaunch": false,
    "category": "Compute optimized",
    "gpuNum": 0,
    "hideHardwareSpecs": false,
    "memoryGiB": 192,
    "name": "ml.c5.24xlarge",
    "vcpuNum": 96
   },
   {
    "_defaultOrder": 29,
    "_isFastLaunch": true,
    "category": "Accelerated computing",
    "gpuNum": 1,
    "hideHardwareSpecs": false,
    "memoryGiB": 16,
    "name": "ml.g4dn.xlarge",
    "vcpuNum": 4
   },
   {
    "_defaultOrder": 30,
    "_isFastLaunch": false,
    "category": "Accelerated computing",
    "gpuNum": 1,
    "hideHardwareSpecs": false,
    "memoryGiB": 32,
    "name": "ml.g4dn.2xlarge",
    "vcpuNum": 8
   },
   {
    "_defaultOrder": 31,
    "_isFastLaunch": false,
    "category": "Accelerated computing",
    "gpuNum": 1,
    "hideHardwareSpecs": false,
    "memoryGiB": 64,
    "name": "ml.g4dn.4xlarge",
    "vcpuNum": 16
   },
   {
    "_defaultOrder": 32,
    "_isFastLaunch": false,
    "category": "Accelerated computing",
    "gpuNum": 1,
    "hideHardwareSpecs": false,
    "memoryGiB": 128,
    "name": "ml.g4dn.8xlarge",
    "vcpuNum": 32
   },
   {
    "_defaultOrder": 33,
    "_isFastLaunch": false,
    "category": "Accelerated computing",
    "gpuNum": 4,
    "hideHardwareSpecs": false,
    "memoryGiB": 192,
    "name": "ml.g4dn.12xlarge",
    "vcpuNum": 48
   },
   {
    "_defaultOrder": 34,
    "_isFastLaunch": false,
    "category": "Accelerated computing",
    "gpuNum": 1,
    "hideHardwareSpecs": false,
    "memoryGiB": 256,
    "name": "ml.g4dn.16xlarge",
    "vcpuNum": 64
   },
   {
    "_defaultOrder": 35,
    "_isFastLaunch": false,
    "category": "Accelerated computing",
    "gpuNum": 1,
    "hideHardwareSpecs": false,
    "memoryGiB": 61,
    "name": "ml.p3.2xlarge",
    "vcpuNum": 8
   },
   {
    "_defaultOrder": 36,
    "_isFastLaunch": false,
    "category": "Accelerated computing",
    "gpuNum": 4,
    "hideHardwareSpecs": false,
    "memoryGiB": 244,
    "name": "ml.p3.8xlarge",
    "vcpuNum": 32
   },
   {
    "_defaultOrder": 37,
    "_isFastLaunch": false,
    "category": "Accelerated computing",
    "gpuNum": 8,
    "hideHardwareSpecs": false,
    "memoryGiB": 488,
    "name": "ml.p3.16xlarge",
    "vcpuNum": 64
   },
   {
    "_defaultOrder": 38,
    "_isFastLaunch": false,
    "category": "Accelerated computing",
    "gpuNum": 8,
    "hideHardwareSpecs": false,
    "memoryGiB": 768,
    "name": "ml.p3dn.24xlarge",
    "vcpuNum": 96
   },
   {
    "_defaultOrder": 39,
    "_isFastLaunch": false,
    "category": "Memory Optimized",
    "gpuNum": 0,
    "hideHardwareSpecs": false,
    "memoryGiB": 16,
    "name": "ml.r5.large",
    "vcpuNum": 2
   },
   {
    "_defaultOrder": 40,
    "_isFastLaunch": false,
    "category": "Memory Optimized",
    "gpuNum": 0,
    "hideHardwareSpecs": false,
    "memoryGiB": 32,
    "name": "ml.r5.xlarge",
    "vcpuNum": 4
   },
   {
    "_defaultOrder": 41,
    "_isFastLaunch": false,
    "category": "Memory Optimized",
    "gpuNum": 0,
    "hideHardwareSpecs": false,
    "memoryGiB": 64,
    "name": "ml.r5.2xlarge",
    "vcpuNum": 8
   },
   {
    "_defaultOrder": 42,
    "_isFastLaunch": false,
    "category": "Memory Optimized",
    "gpuNum": 0,
    "hideHardwareSpecs": false,
    "memoryGiB": 128,
    "name": "ml.r5.4xlarge",
    "vcpuNum": 16
   },
   {
    "_defaultOrder": 43,
    "_isFastLaunch": false,
    "category": "Memory Optimized",
    "gpuNum": 0,
    "hideHardwareSpecs": false,
    "memoryGiB": 256,
    "name": "ml.r5.8xlarge",
    "vcpuNum": 32
   },
   {
    "_defaultOrder": 44,
    "_isFastLaunch": false,
    "category": "Memory Optimized",
    "gpuNum": 0,
    "hideHardwareSpecs": false,
    "memoryGiB": 384,
    "name": "ml.r5.12xlarge",
    "vcpuNum": 48
   },
   {
    "_defaultOrder": 45,
    "_isFastLaunch": false,
    "category": "Memory Optimized",
    "gpuNum": 0,
    "hideHardwareSpecs": false,
    "memoryGiB": 512,
    "name": "ml.r5.16xlarge",
    "vcpuNum": 64
   },
   {
    "_defaultOrder": 46,
    "_isFastLaunch": false,
    "category": "Memory Optimized",
    "gpuNum": 0,
    "hideHardwareSpecs": false,
    "memoryGiB": 768,
    "name": "ml.r5.24xlarge",
    "vcpuNum": 96
   },
   {
    "_defaultOrder": 47,
    "_isFastLaunch": false,
    "category": "Accelerated computing",
    "gpuNum": 1,
    "hideHardwareSpecs": false,
    "memoryGiB": 16,
    "name": "ml.g5.xlarge",
    "vcpuNum": 4
   },
   {
    "_defaultOrder": 48,
    "_isFastLaunch": false,
    "category": "Accelerated computing",
    "gpuNum": 1,
    "hideHardwareSpecs": false,
    "memoryGiB": 32,
    "name": "ml.g5.2xlarge",
    "vcpuNum": 8
   },
   {
    "_defaultOrder": 49,
    "_isFastLaunch": false,
    "category": "Accelerated computing",
    "gpuNum": 1,
    "hideHardwareSpecs": false,
    "memoryGiB": 64,
    "name": "ml.g5.4xlarge",
    "vcpuNum": 16
   },
   {
    "_defaultOrder": 50,
    "_isFastLaunch": false,
    "category": "Accelerated computing",
    "gpuNum": 1,
    "hideHardwareSpecs": false,
    "memoryGiB": 128,
    "name": "ml.g5.8xlarge",
    "vcpuNum": 32
   },
   {
    "_defaultOrder": 51,
    "_isFastLaunch": false,
    "category": "Accelerated computing",
    "gpuNum": 1,
    "hideHardwareSpecs": false,
    "memoryGiB": 256,
    "name": "ml.g5.16xlarge",
    "vcpuNum": 64
   },
   {
    "_defaultOrder": 52,
    "_isFastLaunch": false,
    "category": "Accelerated computing",
    "gpuNum": 4,
    "hideHardwareSpecs": false,
    "memoryGiB": 192,
    "name": "ml.g5.12xlarge",
    "vcpuNum": 48
   },
   {
    "_defaultOrder": 53,
    "_isFastLaunch": false,
    "category": "Accelerated computing",
    "gpuNum": 4,
    "hideHardwareSpecs": false,
    "memoryGiB": 384,
    "name": "ml.g5.24xlarge",
    "vcpuNum": 96
   },
   {
    "_defaultOrder": 54,
    "_isFastLaunch": false,
    "category": "Accelerated computing",
    "gpuNum": 8,
    "hideHardwareSpecs": false,
    "memoryGiB": 768,
    "name": "ml.g5.48xlarge",
    "vcpuNum": 192
   }
  ],
  "instance_type": "ml.t3.medium",
  "kernelspec": {
   "display_name": "Python 3 (Data Science)",
   "language": "python",
   "name": "python3__SAGEMAKER_INTERNAL__arn:aws:sagemaker:us-east-1:081325390199:image/datascience-1.0"
  },
  "language_info": {
   "codemirror_mode": {
    "name": "ipython",
    "version": 3
   },
   "file_extension": ".py",
   "mimetype": "text/x-python",
   "name": "python",
   "nbconvert_exporter": "python",
   "pygments_lexer": "ipython3",
   "version": "3.7.10"
  }
 },
 "nbformat": 4,
 "nbformat_minor": 5
}
